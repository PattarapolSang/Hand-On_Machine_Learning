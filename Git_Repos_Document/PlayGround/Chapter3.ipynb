{
 "metadata": {
  "language_info": {
   "codemirror_mode": {
    "name": "ipython",
    "version": 3
   },
   "file_extension": ".py",
   "mimetype": "text/x-python",
   "name": "python",
   "nbconvert_exporter": "python",
   "pygments_lexer": "ipython3",
   "version": "3.9.3-final"
  },
  "orig_nbformat": 2,
  "kernelspec": {
   "name": "python393jvsc74a57bd042cbaba6a44e0236da8f6069f5e8524172b0dd6886a654f63ffdbc4ee2230b21",
   "display_name": "Python 3.9.3 64-bit"
  },
  "metadata": {
   "interpreter": {
    "hash": "42cbaba6a44e0236da8f6069f5e8524172b0dd6886a654f63ffdbc4ee2230b21"
   }
  }
 },
 "nbformat": 4,
 "nbformat_minor": 2,
 "cells": [
  {
   "cell_type": "code",
   "execution_count": 28,
   "metadata": {},
   "outputs": [
    {
     "output_type": "execute_result",
     "data": {
      "text/plain": [
       "dict_keys(['data', 'target', 'frame', 'categories', 'feature_names', 'target_names', 'DESCR', 'details', 'url'])"
      ]
     },
     "metadata": {},
     "execution_count": 28
    }
   ],
   "source": [
    "from sklearn.datasets import fetch_openml\n",
    "\n",
    "mnist = fetch_openml('mnist_784', version=1)\n",
    "mnist.keys()"
   ]
  },
  {
   "cell_type": "code",
   "execution_count": 29,
   "metadata": {},
   "outputs": [
    {
     "output_type": "execute_result",
     "data": {
      "text/plain": [
       "pandas.core.frame.DataFrame"
      ]
     },
     "metadata": {},
     "execution_count": 29
    }
   ],
   "source": [
    "X, y = mnist['data'], mnist['target']\n",
    "X.shape\n",
    "type(X)\n",
    "list(X.iloc[0])\n",
    "type(X)"
   ]
  },
  {
   "cell_type": "code",
   "execution_count": 30,
   "metadata": {},
   "outputs": [
    {
     "output_type": "execute_result",
     "data": {
      "text/plain": [
       "'5'"
      ]
     },
     "metadata": {},
     "execution_count": 30
    }
   ],
   "source": [
    "y.shape\n",
    "y[0]"
   ]
  },
  {
   "cell_type": "code",
   "execution_count": 31,
   "metadata": {},
   "outputs": [
    {
     "output_type": "execute_result",
     "data": {
      "text/plain": [
       "pandas.core.series.Series"
      ]
     },
     "metadata": {},
     "execution_count": 31
    }
   ],
   "source": [
    "some_digit = X.iloc[0]\n",
    "type(some_digit)"
   ]
  },
  {
   "cell_type": "code",
   "execution_count": 32,
   "metadata": {},
   "outputs": [
    {
     "output_type": "display_data",
     "data": {
      "text/plain": "<Figure size 432x288 with 1 Axes>",
      "image/svg+xml": "<?xml version=\"1.0\" encoding=\"utf-8\" standalone=\"no\"?>\r\n<!DOCTYPE svg PUBLIC \"-//W3C//DTD SVG 1.1//EN\"\r\n  \"http://www.w3.org/Graphics/SVG/1.1/DTD/svg11.dtd\">\r\n<!-- Created with matplotlib (https://matplotlib.org/) -->\r\n<svg height=\"231.84pt\" version=\"1.1\" viewBox=\"0 0 231.84 231.84\" width=\"231.84pt\" xmlns=\"http://www.w3.org/2000/svg\" xmlns:xlink=\"http://www.w3.org/1999/xlink\">\r\n <metadata>\r\n  <rdf:RDF xmlns:cc=\"http://creativecommons.org/ns#\" xmlns:dc=\"http://purl.org/dc/elements/1.1/\" xmlns:rdf=\"http://www.w3.org/1999/02/22-rdf-syntax-ns#\">\r\n   <cc:Work>\r\n    <dc:type rdf:resource=\"http://purl.org/dc/dcmitype/StillImage\"/>\r\n    <dc:date>2021-04-13T11:36:00.244797</dc:date>\r\n    <dc:format>image/svg+xml</dc:format>\r\n    <dc:creator>\r\n     <cc:Agent>\r\n      <dc:title>Matplotlib v3.3.4, https://matplotlib.org/</dc:title>\r\n     </cc:Agent>\r\n    </dc:creator>\r\n   </cc:Work>\r\n  </rdf:RDF>\r\n </metadata>\r\n <defs>\r\n  <style type=\"text/css\">*{stroke-linecap:butt;stroke-linejoin:round;}</style>\r\n </defs>\r\n <g id=\"figure_1\">\r\n  <g id=\"patch_1\">\r\n   <path d=\"M 0 231.84 \r\nL 231.84 231.84 \r\nL 231.84 0 \r\nL 0 0 \r\nz\r\n\" style=\"fill:none;\"/>\r\n  </g>\r\n  <g id=\"axes_1\">\r\n   <g clip-path=\"url(#p215392c0b5)\">\r\n    <image height=\"218\" id=\"imagecfece91a5f\" transform=\"scale(1 -1)translate(0 -218)\" width=\"218\" x=\"7.2\" xlink:href=\"data:image/png;base64,\r\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\" y=\"-6.64\"/>\r\n   </g>\r\n  </g>\r\n </g>\r\n <defs>\r\n  <clipPath id=\"p215392c0b5\">\r\n   <rect height=\"217.44\" width=\"217.44\" x=\"7.2\" y=\"7.2\"/>\r\n  </clipPath>\r\n </defs>\r\n</svg>\r\n",
      "image/png": "[encoded data removed]"
     },
     "metadata": {
      "needs_background": "light"
     }
    }
   ],
   "source": [
    "import matplotlib as mpl\n",
    "import matplotlib.pyplot as plt\n",
    "import numpy as np\n",
    "\n",
    "some_digit = np.array(X[:1])\n",
    "some_digit_image = some_digit.reshape((28,28))\n",
    "\n",
    "plt.imshow(some_digit_image, cmap='binary')\n",
    "plt.axis('off')\n",
    "plt.show()"
   ]
  },
  {
   "cell_type": "code",
   "execution_count": 33,
   "metadata": {},
   "outputs": [
    {
     "output_type": "execute_result",
     "data": {
      "text/plain": [
       "True"
      ]
     },
     "metadata": {},
     "execution_count": 33
    }
   ],
   "source": [
    "y[0]\n",
    "y = y.astype(np.uint8)\n",
    "y[0]==5\n",
    "#X[:0]"
   ]
  },
  {
   "cell_type": "code",
   "execution_count": 34,
   "metadata": {},
   "outputs": [
    {
     "output_type": "execute_result",
     "data": {
      "text/plain": [
       "Empty DataFrame\n",
       "Columns: [pixel1, pixel2, pixel3, pixel4, pixel5, pixel6, pixel7, pixel8, pixel9, pixel10, pixel11, pixel12, pixel13, pixel14, pixel15, pixel16, pixel17, pixel18, pixel19, pixel20, pixel21, pixel22, pixel23, pixel24, pixel25, pixel26, pixel27, pixel28, pixel29, pixel30, pixel31, pixel32, pixel33, pixel34, pixel35, pixel36, pixel37, pixel38, pixel39, pixel40, pixel41, pixel42, pixel43, pixel44, pixel45, pixel46, pixel47, pixel48, pixel49, pixel50, pixel51, pixel52, pixel53, pixel54, pixel55, pixel56, pixel57, pixel58, pixel59, pixel60, pixel61, pixel62, pixel63, pixel64, pixel65, pixel66, pixel67, pixel68, pixel69, pixel70, pixel71, pixel72, pixel73, pixel74, pixel75, pixel76, pixel77, pixel78, pixel79, pixel80, pixel81, pixel82, pixel83, pixel84, pixel85, pixel86, pixel87, pixel88, pixel89, pixel90, pixel91, pixel92, pixel93, pixel94, pixel95, pixel96, pixel97, pixel98, pixel99, pixel100, ...]\n",
       "Index: []\n",
       "\n",
       "[0 rows x 784 columns]"
      ],
      "text/html": "<div>\n<style scoped>\n    .dataframe tbody tr th:only-of-type {\n        vertical-align: middle;\n    }\n\n    .dataframe tbody tr th {\n        vertical-align: top;\n    }\n\n    .dataframe thead th {\n        text-align: right;\n    }\n</style>\n<table border=\"1\" class=\"dataframe\">\n  <thead>\n    <tr style=\"text-align: right;\">\n      <th></th>\n      <th>pixel1</th>\n      <th>pixel2</th>\n      <th>pixel3</th>\n      <th>pixel4</th>\n      <th>pixel5</th>\n      <th>pixel6</th>\n      <th>pixel7</th>\n      <th>pixel8</th>\n      <th>pixel9</th>\n      <th>pixel10</th>\n      <th>...</th>\n      <th>pixel775</th>\n      <th>pixel776</th>\n      <th>pixel777</th>\n      <th>pixel778</th>\n      <th>pixel779</th>\n      <th>pixel780</th>\n      <th>pixel781</th>\n      <th>pixel782</th>\n      <th>pixel783</th>\n      <th>pixel784</th>\n    </tr>\n  </thead>\n  <tbody>\n  </tbody>\n</table>\n<p>0 rows × 784 columns</p>\n</div>"
     },
     "metadata": {},
     "execution_count": 34
    }
   ],
   "source": [
    "X_train, X_test, y_train, y_test = X[:60000], X[60000:], y[:60000], y[60000:]\n",
    "type(X[:0])\n",
    "X[1:0]\n",
    "#X_train"
   ]
  },
  {
   "cell_type": "code",
   "execution_count": 35,
   "metadata": {},
   "outputs": [
    {
     "output_type": "stream",
     "name": "stdout",
     "text": [
      "60000 60000\n"
     ]
    }
   ],
   "source": [
    "y_train_5 = (y_train == 5)\n",
    "y_test_5 = (y_test == 5)\n",
    "\n",
    "print(len(X_train), len(y_train_5))"
   ]
  },
  {
   "cell_type": "code",
   "execution_count": 36,
   "metadata": {},
   "outputs": [
    {
     "output_type": "execute_result",
     "data": {
      "text/plain": [
       "0         True\n",
       "1        False\n",
       "2        False\n",
       "3        False\n",
       "4        False\n",
       "         ...  \n",
       "59995    False\n",
       "59996    False\n",
       "59997     True\n",
       "59998    False\n",
       "59999    False\n",
       "Name: class, Length: 60000, dtype: bool"
      ]
     },
     "metadata": {},
     "execution_count": 36
    }
   ],
   "source": [
    "y_train_5"
   ]
  },
  {
   "cell_type": "code",
   "execution_count": 37,
   "metadata": {},
   "outputs": [
    {
     "output_type": "execute_result",
     "data": {
      "text/plain": [
       "array([False,  True])"
      ]
     },
     "metadata": {},
     "execution_count": 37
    }
   ],
   "source": [
    "np.unique(y_train_5)"
   ]
  },
  {
   "cell_type": "code",
   "execution_count": 38,
   "metadata": {},
   "outputs": [
    {
     "output_type": "execute_result",
     "data": {
      "text/plain": [
       "SGDClassifier(random_state=42)"
      ]
     },
     "metadata": {},
     "execution_count": 38
    }
   ],
   "source": [
    "from sklearn.linear_model import SGDClassifier\n",
    "\n",
    "sgd_clf = SGDClassifier(random_state=42)\n",
    "sgd_clf.fit(X_train, y_train_5)"
   ]
  },
  {
   "cell_type": "code",
   "execution_count": 39,
   "metadata": {},
   "outputs": [
    {
     "output_type": "stream",
     "name": "stdout",
     "text": [
      "   pixel1  pixel2  pixel3  pixel4  pixel5  pixel6  pixel7  pixel8  pixel9  \\\n0     0.0     0.0     0.0     0.0     0.0     0.0     0.0     0.0     0.0   \n\n   pixel10  ...  pixel775  pixel776  pixel777  pixel778  pixel779  pixel780  \\\n0      0.0  ...       0.0       0.0       0.0       0.0       0.0       0.0   \n\n   pixel781  pixel782  pixel783  pixel784  \n0       0.0       0.0       0.0       0.0  \n\n[1 rows x 784 columns]\n"
     ]
    }
   ],
   "source": [
    "print(X[:1])"
   ]
  },
  {
   "cell_type": "code",
   "execution_count": 40,
   "metadata": {},
   "outputs": [
    {
     "output_type": "execute_result",
     "data": {
      "text/plain": [
       "array([ True])"
      ]
     },
     "metadata": {},
     "execution_count": 40
    }
   ],
   "source": [
    "sgd_clf.predict(some_digit)"
   ]
  },
  {
   "cell_type": "code",
   "execution_count": 41,
   "metadata": {},
   "outputs": [
    {
     "output_type": "execute_result",
     "data": {
      "text/plain": [
       "array([0.95035, 0.96035, 0.9604 ])"
      ]
     },
     "metadata": {},
     "execution_count": 41
    }
   ],
   "source": [
    "from sklearn.model_selection import cross_val_score\n",
    "\n",
    "cross_val_score(sgd_clf, X_train, y_train_5, cv=3, scoring='accuracy')"
   ]
  },
  {
   "cell_type": "code",
   "execution_count": 42,
   "metadata": {},
   "outputs": [],
   "source": [
    "from sklearn.base import BaseEstimator\n",
    "import numpy as np\n",
    "\n",
    "class Never5Classifier(BaseEstimator):\n",
    "    def fit(self, X, y=None):\n",
    "        return self\n",
    "    def predict(self, X):\n",
    "        return np.zeros((len(X), 1), dtype= bool)"
   ]
  },
  {
   "cell_type": "code",
   "execution_count": 43,
   "metadata": {},
   "outputs": [
    {
     "output_type": "execute_result",
     "data": {
      "text/plain": [
       "array([0.91125, 0.90855, 0.90915])"
      ]
     },
     "metadata": {},
     "execution_count": 43
    }
   ],
   "source": [
    "never_5_clf = Never5Classifier()\n",
    "cross_val_score(never_5_clf, X_train, y_train_5, cv=3, scoring=\"accuracy\")"
   ]
  },
  {
   "cell_type": "code",
   "execution_count": 45,
   "metadata": {},
   "outputs": [],
   "source": [
    "from sklearn.model_selection import cross_val_predict\n",
    "\n",
    "y_train_predict = cross_val_predict(sgd_clf, X_train, y_train_5, cv=3)"
   ]
  },
  {
   "cell_type": "code",
   "execution_count": 46,
   "metadata": {},
   "outputs": [
    {
     "output_type": "execute_result",
     "data": {
      "text/plain": [
       "array([[53892,   687],\n",
       "       [ 1891,  3530]], dtype=int64)"
      ]
     },
     "metadata": {},
     "execution_count": 46
    }
   ],
   "source": [
    "from sklearn.metrics import confusion_matrix\n",
    "\n",
    "confusion_matrix(y_train_5, y_train_predict)"
   ]
  },
  {
   "cell_type": "code",
   "execution_count": 47,
   "metadata": {},
   "outputs": [
    {
     "output_type": "execute_result",
     "data": {
      "text/plain": [
       "array([[54579,     0],\n",
       "       [    0,  5421]], dtype=int64)"
      ]
     },
     "metadata": {},
     "execution_count": 47
    }
   ],
   "source": [
    "y_train_perfect_prediction = y_train_5\n",
    "\n",
    "confusion_matrix(y_train_5, y_train_perfect_prediction)"
   ]
  },
  {
   "cell_type": "code",
   "execution_count": 48,
   "metadata": {},
   "outputs": [
    {
     "output_type": "stream",
     "name": "stdout",
     "text": [
      "0.8370879772350012\n0.6511713705958311\n"
     ]
    }
   ],
   "source": [
    "from sklearn.metrics import precision_score, recall_score\n",
    "\n",
    "print(precision_score(y_train_5, y_train_predict))\n",
    "print(recall_score(y_train_5, y_train_predict))"
   ]
  },
  {
   "cell_type": "code",
   "execution_count": 49,
   "metadata": {},
   "outputs": [
    {
     "output_type": "execute_result",
     "data": {
      "text/plain": [
       "0.7325171197343846"
      ]
     },
     "metadata": {},
     "execution_count": 49
    }
   ],
   "source": [
    "from sklearn.metrics import f1_score\n",
    "\n",
    "f1_score(y_train_5, y_train_predict)"
   ]
  },
  {
   "cell_type": "code",
   "execution_count": 54,
   "metadata": {},
   "outputs": [
    {
     "output_type": "stream",
     "name": "stdout",
     "text": [
      "[2164.22030239]\n[ True]\n"
     ]
    }
   ],
   "source": [
    "y_scores = sgd_clf.decision_function(some_digit)\n",
    "print(y_scores)\n",
    "\n",
    "threshold = 0\n",
    "y_some_digit_pred = (y_scores > threshold)\n",
    "print(y_some_digit_pred)"
   ]
  },
  {
   "cell_type": "code",
   "execution_count": 56,
   "metadata": {},
   "outputs": [
    {
     "output_type": "stream",
     "name": "stdout",
     "text": [
      "[False]\n"
     ]
    }
   ],
   "source": [
    "threshold = 8000\n",
    "y_some_digit_pred = (y_scores > threshold)\n",
    "print(y_some_digit_pred)"
   ]
  },
  {
   "cell_type": "code",
   "execution_count": 57,
   "metadata": {},
   "outputs": [],
   "source": [
    "y_scores = cross_val_predict(sgd_clf, X_train, y_train_5, cv=5, method='decision_function')"
   ]
  },
  {
   "cell_type": "code",
   "execution_count": 60,
   "metadata": {},
   "outputs": [
    {
     "output_type": "stream",
     "name": "stdout",
     "text": [
      "[  4411.53413566 -14087.12193543 -21565.51993633 ...   9394.4695853\n  -2918.25117218  -9160.6081938 ] 60000\n"
     ]
    }
   ],
   "source": [
    "print(y_scores, len(y_scores))"
   ]
  },
  {
   "cell_type": "code",
   "execution_count": 61,
   "metadata": {},
   "outputs": [],
   "source": [
    "from sklearn.metrics import precision_recall_curve\n",
    "\n",
    "prcissions, recall, threshold = precision_recall_curve(y_train_5, y_scores)"
   ]
  },
  {
   "cell_type": "code",
   "execution_count": 135,
   "metadata": {},
   "outputs": [
    {
     "output_type": "stream",
     "name": "stdout",
     "text": [
      "[-71657.12621734 -71564.61915861 -71564.46030853 ...  28900.06013894\n  31207.1376772   33370.36083388]\n58922\n33370.360833875304\n"
     ]
    }
   ],
   "source": [
    "prcissions[8000]\n",
    "print(threshold[:])\n",
    "#threshold_location = 8000\n",
    "len(threshold)\n",
    "print(len(threshold)-1000)\n",
    "print(threshold[len(threshold)-1])"
   ]
  },
  {
   "cell_type": "code",
   "execution_count": 176,
   "metadata": {},
   "outputs": [],
   "source": [
    "def plot_precision_recall_vs_threshold(precision, recall, threshold):\n",
    "    plt.plot(threshold, precision[:-1], \"b--\", label='precision',)\n",
    "    plt.plot(threshold, recall[:-1], 'g--', label='recall')\n",
    "    \n",
    "    highlight_point = 57000\n",
    "    index = np.argmax(precision >= 0.9)\n",
    "    print(index)\n",
    "\n",
    "    plt.title('Threshold')\n",
    "    plt.grid(True)\n",
    "    plt.axis([-50000,40000,0.0,1.0])\n",
    "    plt.legend(frameon=False)\n",
    "    plt.axhline(precision[index], color =\"orange\", linestyle =\"--\")\n",
    "    plt.axhline(recall[index], color =\"orange\", linestyle =\"--\")\n",
    "    plt.axvline(threshold[index], color =\"orange\", linestyle =\"--\")"
   ]
  },
  {
   "cell_type": "code",
   "execution_count": 177,
   "metadata": {},
   "outputs": [
    {
     "output_type": "stream",
     "name": "stdout",
     "text": [
      "55954\n"
     ]
    },
    {
     "output_type": "execute_result",
     "data": {
      "text/plain": [
       "<function matplotlib.pyplot.show(close=None, block=None)>"
      ]
     },
     "metadata": {},
     "execution_count": 177
    },
    {
     "output_type": "display_data",
     "data": {
      "text/plain": "<Figure size 432x288 with 1 Axes>",
      "image/svg+xml": "<?xml version=\"1.0\" encoding=\"utf-8\" standalone=\"no\"?>\r\n<!DOCTYPE svg PUBLIC \"-//W3C//DTD SVG 1.1//EN\"\r\n  \"http://www.w3.org/Graphics/SVG/1.1/DTD/svg11.dtd\">\r\n<!-- Created with matplotlib (https://matplotlib.org/) -->\r\n<svg height=\"263.63625pt\" version=\"1.1\" viewBox=\"0 0 388.009375 263.63625\" width=\"388.009375pt\" xmlns=\"http://www.w3.org/2000/svg\" xmlns:xlink=\"http://www.w3.org/1999/xlink\">\r\n <metadata>\r\n  <rdf:RDF xmlns:cc=\"http://creativecommons.org/ns#\" xmlns:dc=\"http://purl.org/dc/elements/1.1/\" xmlns:rdf=\"http://www.w3.org/1999/02/22-rdf-syntax-ns#\">\r\n   <cc:Work>\r\n    <dc:type rdf:resource=\"http://purl.org/dc/dcmitype/StillImage\"/>\r\n    <dc:date>2021-04-13T13:26:27.048129</dc:date>\r\n    <dc:format>image/svg+xml</dc:format>\r\n    <dc:creator>\r\n     <cc:Agent>\r\n      <dc:title>Matplotlib v3.3.4, https://matplotlib.org/</dc:title>\r\n     </cc:Agent>\r\n    </dc:creator>\r\n   </cc:Work>\r\n  </rdf:RDF>\r\n </metadata>\r\n <defs>\r\n  <style type=\"text/css\">*{stroke-linecap:butt;stroke-linejoin:round;}</style>\r\n </defs>\r\n <g id=\"figure_1\">\r\n  <g id=\"patch_1\">\r\n   <path d=\"M 0 263.63625 \r\nL 388.009375 263.63625 \r\nL 388.009375 0 \r\nL 0 0 \r\nz\r\n\" style=\"fill:none;\"/>\r\n  </g>\r\n  <g id=\"axes_1\">\r\n   <g id=\"patch_2\">\r\n    <path d=\"M 30.103125 239.758125 \r\nL 364.903125 239.758125 \r\nL 364.903125 22.318125 \r\nL 30.103125 22.318125 \r\nz\r\n\" style=\"fill:#ffffff;\"/>\r\n   </g>\r\n   <g id=\"matplotlib.axis_1\">\r\n    <g id=\"xtick_1\">\r\n     <g id=\"line2d_1\">\r\n      <path clip-path=\"url(#pc07203206b)\" d=\"M 30.103125 239.758125 \r\nL 30.103125 22.318125 \r\n\" style=\"fill:none;stroke:#b0b0b0;stroke-linecap:square;stroke-width:0.8;\"/>\r\n     </g>\r\n     <g id=\"line2d_2\">\r\n      <defs>\r\n       <path d=\"M 0 0 \r\nL 0 3.5 \r\n\" id=\"m25ea364ee5\" style=\"stroke:#000000;stroke-width:0.8;\"/>\r\n      </defs>\r\n      <g>\r\n       <use style=\"stroke:#000000;stroke-width:0.8;\" x=\"30.103125\" xlink:href=\"#m25ea364ee5\" y=\"239.758125\"/>\r\n      </g>\r\n     </g>\r\n     <g id=\"text_1\">\r\n      <!-- −50000 -->\r\n      <g transform=\"translate(10.007031 254.356563)scale(0.1 -0.1)\">\r\n       <defs>\r\n        <path d=\"M 10.59375 35.5 \r\nL 73.1875 35.5 \r\nL 73.1875 27.203125 \r\nL 10.59375 27.203125 \r\nz\r\n\" id=\"DejaVuSans-8722\"/>\r\n        <path d=\"M 10.796875 72.90625 \r\nL 49.515625 72.90625 \r\nL 49.515625 64.59375 \r\nL 19.828125 64.59375 \r\nL 19.828125 46.734375 \r\nQ 21.96875 47.46875 24.109375 47.828125 \r\nQ 26.265625 48.1875 28.421875 48.1875 \r\nQ 40.625 48.1875 47.75 41.5 \r\nQ 54.890625 34.8125 54.890625 23.390625 \r\nQ 54.890625 11.625 47.5625 5.09375 \r\nQ 40.234375 -1.421875 26.90625 -1.421875 \r\nQ 22.3125 -1.421875 17.546875 -0.640625 \r\nQ 12.796875 0.140625 7.71875 1.703125 \r\nL 7.71875 11.625 \r\nQ 12.109375 9.234375 16.796875 8.0625 \r\nQ 21.484375 6.890625 26.703125 6.890625 \r\nQ 35.15625 6.890625 40.078125 11.328125 \r\nQ 45.015625 15.765625 45.015625 23.390625 \r\nQ 45.015625 31 40.078125 35.4375 \r\nQ 35.15625 39.890625 26.703125 39.890625 \r\nQ 22.75 39.890625 18.8125 39.015625 \r\nQ 14.890625 38.140625 10.796875 36.28125 \r\nz\r\n\" id=\"DejaVuSans-53\"/>\r\n        <path d=\"M 31.78125 66.40625 \r\nQ 24.171875 66.40625 20.328125 58.90625 \r\nQ 16.5 51.421875 16.5 36.375 \r\nQ 16.5 21.390625 20.328125 13.890625 \r\nQ 24.171875 6.390625 31.78125 6.390625 \r\nQ 39.453125 6.390625 43.28125 13.890625 \r\nQ 47.125 21.390625 47.125 36.375 \r\nQ 47.125 51.421875 43.28125 58.90625 \r\nQ 39.453125 66.40625 31.78125 66.40625 \r\nz\r\nM 31.78125 74.21875 \r\nQ 44.046875 74.21875 50.515625 64.515625 \r\nQ 56.984375 54.828125 56.984375 36.375 \r\nQ 56.984375 17.96875 50.515625 8.265625 \r\nQ 44.046875 -1.421875 31.78125 -1.421875 \r\nQ 19.53125 -1.421875 13.0625 8.265625 \r\nQ 6.59375 17.96875 6.59375 36.375 \r\nQ 6.59375 54.828125 13.0625 64.515625 \r\nQ 19.53125 74.21875 31.78125 74.21875 \r\nz\r\n\" id=\"DejaVuSans-48\"/>\r\n       </defs>\r\n       <use xlink:href=\"#DejaVuSans-8722\"/>\r\n       <use x=\"83.789062\" xlink:href=\"#DejaVuSans-53\"/>\r\n       <use x=\"147.412109\" xlink:href=\"#DejaVuSans-48\"/>\r\n       <use x=\"211.035156\" xlink:href=\"#DejaVuSans-48\"/>\r\n       <use x=\"274.658203\" xlink:href=\"#DejaVuSans-48\"/>\r\n       <use x=\"338.28125\" xlink:href=\"#DejaVuSans-48\"/>\r\n      </g>\r\n     </g>\r\n    </g>\r\n    <g id=\"xtick_2\">\r\n     <g id=\"line2d_3\">\r\n      <path clip-path=\"url(#pc07203206b)\" d=\"M 67.303125 239.758125 \r\nL 67.303125 22.318125 \r\n\" style=\"fill:none;stroke:#b0b0b0;stroke-linecap:square;stroke-width:0.8;\"/>\r\n     </g>\r\n     <g id=\"line2d_4\">\r\n      <g>\r\n       <use style=\"stroke:#000000;stroke-width:0.8;\" x=\"67.303125\" xlink:href=\"#m25ea364ee5\" y=\"239.758125\"/>\r\n      </g>\r\n     </g>\r\n     <g id=\"text_2\">\r\n      <!-- −40000 -->\r\n      <g transform=\"translate(47.207031 254.356563)scale(0.1 -0.1)\">\r\n       <defs>\r\n        <path d=\"M 37.796875 64.3125 \r\nL 12.890625 25.390625 \r\nL 37.796875 25.390625 \r\nz\r\nM 35.203125 72.90625 \r\nL 47.609375 72.90625 \r\nL 47.609375 25.390625 \r\nL 58.015625 25.390625 \r\nL 58.015625 17.1875 \r\nL 47.609375 17.1875 \r\nL 47.609375 0 \r\nL 37.796875 0 \r\nL 37.796875 17.1875 \r\nL 4.890625 17.1875 \r\nL 4.890625 26.703125 \r\nz\r\n\" id=\"DejaVuSans-52\"/>\r\n       </defs>\r\n       <use xlink:href=\"#DejaVuSans-8722\"/>\r\n       <use x=\"83.789062\" xlink:href=\"#DejaVuSans-52\"/>\r\n       <use x=\"147.412109\" xlink:href=\"#DejaVuSans-48\"/>\r\n       <use x=\"211.035156\" xlink:href=\"#DejaVuSans-48\"/>\r\n       <use x=\"274.658203\" xlink:href=\"#DejaVuSans-48\"/>\r\n       <use x=\"338.28125\" xlink:href=\"#DejaVuSans-48\"/>\r\n      </g>\r\n     </g>\r\n    </g>\r\n    <g id=\"xtick_3\">\r\n     <g id=\"line2d_5\">\r\n      <path clip-path=\"url(#pc07203206b)\" d=\"M 104.503125 239.758125 \r\nL 104.503125 22.318125 \r\n\" style=\"fill:none;stroke:#b0b0b0;stroke-linecap:square;stroke-width:0.8;\"/>\r\n     </g>\r\n     <g id=\"line2d_6\">\r\n      <g>\r\n       <use style=\"stroke:#000000;stroke-width:0.8;\" x=\"104.503125\" xlink:href=\"#m25ea364ee5\" y=\"239.758125\"/>\r\n      </g>\r\n     </g>\r\n     <g id=\"text_3\">\r\n      <!-- −30000 -->\r\n      <g transform=\"translate(84.407031 254.356563)scale(0.1 -0.1)\">\r\n       <defs>\r\n        <path d=\"M 40.578125 39.3125 \r\nQ 47.65625 37.796875 51.625 33 \r\nQ 55.609375 28.21875 55.609375 21.1875 \r\nQ 55.609375 10.40625 48.1875 4.484375 \r\nQ 40.765625 -1.421875 27.09375 -1.421875 \r\nQ 22.515625 -1.421875 17.65625 -0.515625 \r\nQ 12.796875 0.390625 7.625 2.203125 \r\nL 7.625 11.71875 \r\nQ 11.71875 9.328125 16.59375 8.109375 \r\nQ 21.484375 6.890625 26.8125 6.890625 \r\nQ 36.078125 6.890625 40.9375 10.546875 \r\nQ 45.796875 14.203125 45.796875 21.1875 \r\nQ 45.796875 27.640625 41.28125 31.265625 \r\nQ 36.765625 34.90625 28.71875 34.90625 \r\nL 20.21875 34.90625 \r\nL 20.21875 43.015625 \r\nL 29.109375 43.015625 \r\nQ 36.375 43.015625 40.234375 45.921875 \r\nQ 44.09375 48.828125 44.09375 54.296875 \r\nQ 44.09375 59.90625 40.109375 62.90625 \r\nQ 36.140625 65.921875 28.71875 65.921875 \r\nQ 24.65625 65.921875 20.015625 65.03125 \r\nQ 15.375 64.15625 9.8125 62.3125 \r\nL 9.8125 71.09375 \r\nQ 15.4375 72.65625 20.34375 73.4375 \r\nQ 25.25 74.21875 29.59375 74.21875 \r\nQ 40.828125 74.21875 47.359375 69.109375 \r\nQ 53.90625 64.015625 53.90625 55.328125 \r\nQ 53.90625 49.265625 50.4375 45.09375 \r\nQ 46.96875 40.921875 40.578125 39.3125 \r\nz\r\n\" id=\"DejaVuSans-51\"/>\r\n       </defs>\r\n       <use xlink:href=\"#DejaVuSans-8722\"/>\r\n       <use x=\"83.789062\" xlink:href=\"#DejaVuSans-51\"/>\r\n       <use x=\"147.412109\" xlink:href=\"#DejaVuSans-48\"/>\r\n       <use x=\"211.035156\" xlink:href=\"#DejaVuSans-48\"/>\r\n       <use x=\"274.658203\" xlink:href=\"#DejaVuSans-48\"/>\r\n       <use x=\"338.28125\" xlink:href=\"#DejaVuSans-48\"/>\r\n      </g>\r\n     </g>\r\n    </g>\r\n    <g id=\"xtick_4\">\r\n     <g id=\"line2d_7\">\r\n      <path clip-path=\"url(#pc07203206b)\" d=\"M 141.703125 239.758125 \r\nL 141.703125 22.318125 \r\n\" style=\"fill:none;stroke:#b0b0b0;stroke-linecap:square;stroke-width:0.8;\"/>\r\n     </g>\r\n     <g id=\"line2d_8\">\r\n      <g>\r\n       <use style=\"stroke:#000000;stroke-width:0.8;\" x=\"141.703125\" xlink:href=\"#m25ea364ee5\" y=\"239.758125\"/>\r\n      </g>\r\n     </g>\r\n     <g id=\"text_4\">\r\n      <!-- −20000 -->\r\n      <g transform=\"translate(121.607031 254.356563)scale(0.1 -0.1)\">\r\n       <defs>\r\n        <path d=\"M 19.1875 8.296875 \r\nL 53.609375 8.296875 \r\nL 53.609375 0 \r\nL 7.328125 0 \r\nL 7.328125 8.296875 \r\nQ 12.9375 14.109375 22.625 23.890625 \r\nQ 32.328125 33.6875 34.8125 36.53125 \r\nQ 39.546875 41.84375 41.421875 45.53125 \r\nQ 43.3125 49.21875 43.3125 52.78125 \r\nQ 43.3125 58.59375 39.234375 62.25 \r\nQ 35.15625 65.921875 28.609375 65.921875 \r\nQ 23.96875 65.921875 18.8125 64.3125 \r\nQ 13.671875 62.703125 7.8125 59.421875 \r\nL 7.8125 69.390625 \r\nQ 13.765625 71.78125 18.9375 73 \r\nQ 24.125 74.21875 28.421875 74.21875 \r\nQ 39.75 74.21875 46.484375 68.546875 \r\nQ 53.21875 62.890625 53.21875 53.421875 \r\nQ 53.21875 48.921875 51.53125 44.890625 \r\nQ 49.859375 40.875 45.40625 35.40625 \r\nQ 44.1875 33.984375 37.640625 27.21875 \r\nQ 31.109375 20.453125 19.1875 8.296875 \r\nz\r\n\" id=\"DejaVuSans-50\"/>\r\n       </defs>\r\n       <use xlink:href=\"#DejaVuSans-8722\"/>\r\n       <use x=\"83.789062\" xlink:href=\"#DejaVuSans-50\"/>\r\n       <use x=\"147.412109\" xlink:href=\"#DejaVuSans-48\"/>\r\n       <use x=\"211.035156\" xlink:href=\"#DejaVuSans-48\"/>\r\n       <use x=\"274.658203\" xlink:href=\"#DejaVuSans-48\"/>\r\n       <use x=\"338.28125\" xlink:href=\"#DejaVuSans-48\"/>\r\n      </g>\r\n     </g>\r\n    </g>\r\n    <g id=\"xtick_5\">\r\n     <g id=\"line2d_9\">\r\n      <path clip-path=\"url(#pc07203206b)\" d=\"M 178.903125 239.758125 \r\nL 178.903125 22.318125 \r\n\" style=\"fill:none;stroke:#b0b0b0;stroke-linecap:square;stroke-width:0.8;\"/>\r\n     </g>\r\n     <g id=\"line2d_10\">\r\n      <g>\r\n       <use style=\"stroke:#000000;stroke-width:0.8;\" x=\"178.903125\" xlink:href=\"#m25ea364ee5\" y=\"239.758125\"/>\r\n      </g>\r\n     </g>\r\n     <g id=\"text_5\">\r\n      <!-- −10000 -->\r\n      <g transform=\"translate(158.807031 254.356563)scale(0.1 -0.1)\">\r\n       <defs>\r\n        <path d=\"M 12.40625 8.296875 \r\nL 28.515625 8.296875 \r\nL 28.515625 63.921875 \r\nL 10.984375 60.40625 \r\nL 10.984375 69.390625 \r\nL 28.421875 72.90625 \r\nL 38.28125 72.90625 \r\nL 38.28125 8.296875 \r\nL 54.390625 8.296875 \r\nL 54.390625 0 \r\nL 12.40625 0 \r\nz\r\n\" id=\"DejaVuSans-49\"/>\r\n       </defs>\r\n       <use xlink:href=\"#DejaVuSans-8722\"/>\r\n       <use x=\"83.789062\" xlink:href=\"#DejaVuSans-49\"/>\r\n       <use x=\"147.412109\" xlink:href=\"#DejaVuSans-48\"/>\r\n       <use x=\"211.035156\" xlink:href=\"#DejaVuSans-48\"/>\r\n       <use x=\"274.658203\" xlink:href=\"#DejaVuSans-48\"/>\r\n       <use x=\"338.28125\" xlink:href=\"#DejaVuSans-48\"/>\r\n      </g>\r\n     </g>\r\n    </g>\r\n    <g id=\"xtick_6\">\r\n     <g id=\"line2d_11\">\r\n      <path clip-path=\"url(#pc07203206b)\" d=\"M 216.103125 239.758125 \r\nL 216.103125 22.318125 \r\n\" style=\"fill:none;stroke:#b0b0b0;stroke-linecap:square;stroke-width:0.8;\"/>\r\n     </g>\r\n     <g id=\"line2d_12\">\r\n      <g>\r\n       <use style=\"stroke:#000000;stroke-width:0.8;\" x=\"216.103125\" xlink:href=\"#m25ea364ee5\" y=\"239.758125\"/>\r\n      </g>\r\n     </g>\r\n     <g id=\"text_6\">\r\n      <!-- 0 -->\r\n      <g transform=\"translate(212.921875 254.356563)scale(0.1 -0.1)\">\r\n       <use xlink:href=\"#DejaVuSans-48\"/>\r\n      </g>\r\n     </g>\r\n    </g>\r\n    <g id=\"xtick_7\">\r\n     <g id=\"line2d_13\">\r\n      <path clip-path=\"url(#pc07203206b)\" d=\"M 253.303125 239.758125 \r\nL 253.303125 22.318125 \r\n\" style=\"fill:none;stroke:#b0b0b0;stroke-linecap:square;stroke-width:0.8;\"/>\r\n     </g>\r\n     <g id=\"line2d_14\">\r\n      <g>\r\n       <use style=\"stroke:#000000;stroke-width:0.8;\" x=\"253.303125\" xlink:href=\"#m25ea364ee5\" y=\"239.758125\"/>\r\n      </g>\r\n     </g>\r\n     <g id=\"text_7\">\r\n      <!-- 10000 -->\r\n      <g transform=\"translate(237.396875 254.356563)scale(0.1 -0.1)\">\r\n       <use xlink:href=\"#DejaVuSans-49\"/>\r\n       <use x=\"63.623047\" xlink:href=\"#DejaVuSans-48\"/>\r\n       <use x=\"127.246094\" xlink:href=\"#DejaVuSans-48\"/>\r\n       <use x=\"190.869141\" xlink:href=\"#DejaVuSans-48\"/>\r\n       <use x=\"254.492188\" xlink:href=\"#DejaVuSans-48\"/>\r\n      </g>\r\n     </g>\r\n    </g>\r\n    <g id=\"xtick_8\">\r\n     <g id=\"line2d_15\">\r\n      <path clip-path=\"url(#pc07203206b)\" d=\"M 290.503125 239.758125 \r\nL 290.503125 22.318125 \r\n\" style=\"fill:none;stroke:#b0b0b0;stroke-linecap:square;stroke-width:0.8;\"/>\r\n     </g>\r\n     <g id=\"line2d_16\">\r\n      <g>\r\n       <use style=\"stroke:#000000;stroke-width:0.8;\" x=\"290.503125\" xlink:href=\"#m25ea364ee5\" y=\"239.758125\"/>\r\n      </g>\r\n     </g>\r\n     <g id=\"text_8\">\r\n      <!-- 20000 -->\r\n      <g transform=\"translate(274.596875 254.356563)scale(0.1 -0.1)\">\r\n       <use xlink:href=\"#DejaVuSans-50\"/>\r\n       <use x=\"63.623047\" xlink:href=\"#DejaVuSans-48\"/>\r\n       <use x=\"127.246094\" xlink:href=\"#DejaVuSans-48\"/>\r\n       <use x=\"190.869141\" xlink:href=\"#DejaVuSans-48\"/>\r\n       <use x=\"254.492188\" xlink:href=\"#DejaVuSans-48\"/>\r\n      </g>\r\n     </g>\r\n    </g>\r\n    <g id=\"xtick_9\">\r\n     <g id=\"line2d_17\">\r\n      <path clip-path=\"url(#pc07203206b)\" d=\"M 327.703125 239.758125 \r\nL 327.703125 22.318125 \r\n\" style=\"fill:none;stroke:#b0b0b0;stroke-linecap:square;stroke-width:0.8;\"/>\r\n     </g>\r\n     <g id=\"line2d_18\">\r\n      <g>\r\n       <use style=\"stroke:#000000;stroke-width:0.8;\" x=\"327.703125\" xlink:href=\"#m25ea364ee5\" y=\"239.758125\"/>\r\n      </g>\r\n     </g>\r\n     <g id=\"text_9\">\r\n      <!-- 30000 -->\r\n      <g transform=\"translate(311.796875 254.356563)scale(0.1 -0.1)\">\r\n       <use xlink:href=\"#DejaVuSans-51\"/>\r\n       <use x=\"63.623047\" xlink:href=\"#DejaVuSans-48\"/>\r\n       <use x=\"127.246094\" xlink:href=\"#DejaVuSans-48\"/>\r\n       <use x=\"190.869141\" xlink:href=\"#DejaVuSans-48\"/>\r\n       <use x=\"254.492188\" xlink:href=\"#DejaVuSans-48\"/>\r\n      </g>\r\n     </g>\r\n    </g>\r\n    <g id=\"xtick_10\">\r\n     <g id=\"line2d_19\">\r\n      <path clip-path=\"url(#pc07203206b)\" d=\"M 364.903125 239.758125 \r\nL 364.903125 22.318125 \r\n\" style=\"fill:none;stroke:#b0b0b0;stroke-linecap:square;stroke-width:0.8;\"/>\r\n     </g>\r\n     <g id=\"line2d_20\">\r\n      <g>\r\n       <use style=\"stroke:#000000;stroke-width:0.8;\" x=\"364.903125\" xlink:href=\"#m25ea364ee5\" y=\"239.758125\"/>\r\n      </g>\r\n     </g>\r\n     <g id=\"text_10\">\r\n      <!-- 40000 -->\r\n      <g transform=\"translate(348.996875 254.356563)scale(0.1 -0.1)\">\r\n       <use xlink:href=\"#DejaVuSans-52\"/>\r\n       <use x=\"63.623047\" xlink:href=\"#DejaVuSans-48\"/>\r\n       <use x=\"127.246094\" xlink:href=\"#DejaVuSans-48\"/>\r\n       <use x=\"190.869141\" xlink:href=\"#DejaVuSans-48\"/>\r\n       <use x=\"254.492188\" xlink:href=\"#DejaVuSans-48\"/>\r\n      </g>\r\n     </g>\r\n    </g>\r\n   </g>\r\n   <g id=\"matplotlib.axis_2\">\r\n    <g id=\"ytick_1\">\r\n     <g id=\"line2d_21\">\r\n      <path clip-path=\"url(#pc07203206b)\" d=\"M 30.103125 239.758125 \r\nL 364.903125 239.758125 \r\n\" style=\"fill:none;stroke:#b0b0b0;stroke-linecap:square;stroke-width:0.8;\"/>\r\n     </g>\r\n     <g id=\"line2d_22\">\r\n      <defs>\r\n       <path d=\"M 0 0 \r\nL -3.5 0 \r\n\" id=\"mde45e46651\" style=\"stroke:#000000;stroke-width:0.8;\"/>\r\n      </defs>\r\n      <g>\r\n       <use style=\"stroke:#000000;stroke-width:0.8;\" x=\"30.103125\" xlink:href=\"#mde45e46651\" y=\"239.758125\"/>\r\n      </g>\r\n     </g>\r\n     <g id=\"text_11\">\r\n      <!-- 0.0 -->\r\n      <g transform=\"translate(7.2 243.557344)scale(0.1 -0.1)\">\r\n       <defs>\r\n        <path d=\"M 10.6875 12.40625 \r\nL 21 12.40625 \r\nL 21 0 \r\nL 10.6875 0 \r\nz\r\n\" id=\"DejaVuSans-46\"/>\r\n       </defs>\r\n       <use xlink:href=\"#DejaVuSans-48\"/>\r\n       <use x=\"63.623047\" xlink:href=\"#DejaVuSans-46\"/>\r\n       <use x=\"95.410156\" xlink:href=\"#DejaVuSans-48\"/>\r\n      </g>\r\n     </g>\r\n    </g>\r\n    <g id=\"ytick_2\">\r\n     <g id=\"line2d_23\">\r\n      <path clip-path=\"url(#pc07203206b)\" d=\"M 30.103125 196.270125 \r\nL 364.903125 196.270125 \r\n\" style=\"fill:none;stroke:#b0b0b0;stroke-linecap:square;stroke-width:0.8;\"/>\r\n     </g>\r\n     <g id=\"line2d_24\">\r\n      <g>\r\n       <use style=\"stroke:#000000;stroke-width:0.8;\" x=\"30.103125\" xlink:href=\"#mde45e46651\" y=\"196.270125\"/>\r\n      </g>\r\n     </g>\r\n     <g id=\"text_12\">\r\n      <!-- 0.2 -->\r\n      <g transform=\"translate(7.2 200.069344)scale(0.1 -0.1)\">\r\n       <use xlink:href=\"#DejaVuSans-48\"/>\r\n       <use x=\"63.623047\" xlink:href=\"#DejaVuSans-46\"/>\r\n       <use x=\"95.410156\" xlink:href=\"#DejaVuSans-50\"/>\r\n      </g>\r\n     </g>\r\n    </g>\r\n    <g id=\"ytick_3\">\r\n     <g id=\"line2d_25\">\r\n      <path clip-path=\"url(#pc07203206b)\" d=\"M 30.103125 152.782125 \r\nL 364.903125 152.782125 \r\n\" style=\"fill:none;stroke:#b0b0b0;stroke-linecap:square;stroke-width:0.8;\"/>\r\n     </g>\r\n     <g id=\"line2d_26\">\r\n      <g>\r\n       <use style=\"stroke:#000000;stroke-width:0.8;\" x=\"30.103125\" xlink:href=\"#mde45e46651\" y=\"152.782125\"/>\r\n      </g>\r\n     </g>\r\n     <g id=\"text_13\">\r\n      <!-- 0.4 -->\r\n      <g transform=\"translate(7.2 156.581344)scale(0.1 -0.1)\">\r\n       <use xlink:href=\"#DejaVuSans-48\"/>\r\n       <use x=\"63.623047\" xlink:href=\"#DejaVuSans-46\"/>\r\n       <use x=\"95.410156\" xlink:href=\"#DejaVuSans-52\"/>\r\n      </g>\r\n     </g>\r\n    </g>\r\n    <g id=\"ytick_4\">\r\n     <g id=\"line2d_27\">\r\n      <path clip-path=\"url(#pc07203206b)\" d=\"M 30.103125 109.294125 \r\nL 364.903125 109.294125 \r\n\" style=\"fill:none;stroke:#b0b0b0;stroke-linecap:square;stroke-width:0.8;\"/>\r\n     </g>\r\n     <g id=\"line2d_28\">\r\n      <g>\r\n       <use style=\"stroke:#000000;stroke-width:0.8;\" x=\"30.103125\" xlink:href=\"#mde45e46651\" y=\"109.294125\"/>\r\n      </g>\r\n     </g>\r\n     <g id=\"text_14\">\r\n      <!-- 0.6 -->\r\n      <g transform=\"translate(7.2 113.093344)scale(0.1 -0.1)\">\r\n       <defs>\r\n        <path d=\"M 33.015625 40.375 \r\nQ 26.375 40.375 22.484375 35.828125 \r\nQ 18.609375 31.296875 18.609375 23.390625 \r\nQ 18.609375 15.53125 22.484375 10.953125 \r\nQ 26.375 6.390625 33.015625 6.390625 \r\nQ 39.65625 6.390625 43.53125 10.953125 \r\nQ 47.40625 15.53125 47.40625 23.390625 \r\nQ 47.40625 31.296875 43.53125 35.828125 \r\nQ 39.65625 40.375 33.015625 40.375 \r\nz\r\nM 52.59375 71.296875 \r\nL 52.59375 62.3125 \r\nQ 48.875 64.0625 45.09375 64.984375 \r\nQ 41.3125 65.921875 37.59375 65.921875 \r\nQ 27.828125 65.921875 22.671875 59.328125 \r\nQ 17.53125 52.734375 16.796875 39.40625 \r\nQ 19.671875 43.65625 24.015625 45.921875 \r\nQ 28.375 48.1875 33.59375 48.1875 \r\nQ 44.578125 48.1875 50.953125 41.515625 \r\nQ 57.328125 34.859375 57.328125 23.390625 \r\nQ 57.328125 12.15625 50.6875 5.359375 \r\nQ 44.046875 -1.421875 33.015625 -1.421875 \r\nQ 20.359375 -1.421875 13.671875 8.265625 \r\nQ 6.984375 17.96875 6.984375 36.375 \r\nQ 6.984375 53.65625 15.1875 63.9375 \r\nQ 23.390625 74.21875 37.203125 74.21875 \r\nQ 40.921875 74.21875 44.703125 73.484375 \r\nQ 48.484375 72.75 52.59375 71.296875 \r\nz\r\n\" id=\"DejaVuSans-54\"/>\r\n       </defs>\r\n       <use xlink:href=\"#DejaVuSans-48\"/>\r\n       <use x=\"63.623047\" xlink:href=\"#DejaVuSans-46\"/>\r\n       <use x=\"95.410156\" xlink:href=\"#DejaVuSans-54\"/>\r\n      </g>\r\n     </g>\r\n    </g>\r\n    <g id=\"ytick_5\">\r\n     <g id=\"line2d_29\">\r\n      <path clip-path=\"url(#pc07203206b)\" d=\"M 30.103125 65.806125 \r\nL 364.903125 65.806125 \r\n\" style=\"fill:none;stroke:#b0b0b0;stroke-linecap:square;stroke-width:0.8;\"/>\r\n     </g>\r\n     <g id=\"line2d_30\">\r\n      <g>\r\n       <use style=\"stroke:#000000;stroke-width:0.8;\" x=\"30.103125\" xlink:href=\"#mde45e46651\" y=\"65.806125\"/>\r\n      </g>\r\n     </g>\r\n     <g id=\"text_15\">\r\n      <!-- 0.8 -->\r\n      <g transform=\"translate(7.2 69.605344)scale(0.1 -0.1)\">\r\n       <defs>\r\n        <path d=\"M 31.78125 34.625 \r\nQ 24.75 34.625 20.71875 30.859375 \r\nQ 16.703125 27.09375 16.703125 20.515625 \r\nQ 16.703125 13.921875 20.71875 10.15625 \r\nQ 24.75 6.390625 31.78125 6.390625 \r\nQ 38.8125 6.390625 42.859375 10.171875 \r\nQ 46.921875 13.96875 46.921875 20.515625 \r\nQ 46.921875 27.09375 42.890625 30.859375 \r\nQ 38.875 34.625 31.78125 34.625 \r\nz\r\nM 21.921875 38.8125 \r\nQ 15.578125 40.375 12.03125 44.71875 \r\nQ 8.5 49.078125 8.5 55.328125 \r\nQ 8.5 64.0625 14.71875 69.140625 \r\nQ 20.953125 74.21875 31.78125 74.21875 \r\nQ 42.671875 74.21875 48.875 69.140625 \r\nQ 55.078125 64.0625 55.078125 55.328125 \r\nQ 55.078125 49.078125 51.53125 44.71875 \r\nQ 48 40.375 41.703125 38.8125 \r\nQ 48.828125 37.15625 52.796875 32.3125 \r\nQ 56.78125 27.484375 56.78125 20.515625 \r\nQ 56.78125 9.90625 50.3125 4.234375 \r\nQ 43.84375 -1.421875 31.78125 -1.421875 \r\nQ 19.734375 -1.421875 13.25 4.234375 \r\nQ 6.78125 9.90625 6.78125 20.515625 \r\nQ 6.78125 27.484375 10.78125 32.3125 \r\nQ 14.796875 37.15625 21.921875 38.8125 \r\nz\r\nM 18.3125 54.390625 \r\nQ 18.3125 48.734375 21.84375 45.5625 \r\nQ 25.390625 42.390625 31.78125 42.390625 \r\nQ 38.140625 42.390625 41.71875 45.5625 \r\nQ 45.3125 48.734375 45.3125 54.390625 \r\nQ 45.3125 60.0625 41.71875 63.234375 \r\nQ 38.140625 66.40625 31.78125 66.40625 \r\nQ 25.390625 66.40625 21.84375 63.234375 \r\nQ 18.3125 60.0625 18.3125 54.390625 \r\nz\r\n\" id=\"DejaVuSans-56\"/>\r\n       </defs>\r\n       <use xlink:href=\"#DejaVuSans-48\"/>\r\n       <use x=\"63.623047\" xlink:href=\"#DejaVuSans-46\"/>\r\n       <use x=\"95.410156\" xlink:href=\"#DejaVuSans-56\"/>\r\n      </g>\r\n     </g>\r\n    </g>\r\n    <g id=\"ytick_6\">\r\n     <g id=\"line2d_31\">\r\n      <path clip-path=\"url(#pc07203206b)\" d=\"M 30.103125 22.318125 \r\nL 364.903125 22.318125 \r\n\" style=\"fill:none;stroke:#b0b0b0;stroke-linecap:square;stroke-width:0.8;\"/>\r\n     </g>\r\n     <g id=\"line2d_32\">\r\n      <g>\r\n       <use style=\"stroke:#000000;stroke-width:0.8;\" x=\"30.103125\" xlink:href=\"#mde45e46651\" y=\"22.318125\"/>\r\n      </g>\r\n     </g>\r\n     <g id=\"text_16\">\r\n      <!-- 1.0 -->\r\n      <g transform=\"translate(7.2 26.117344)scale(0.1 -0.1)\">\r\n       <use xlink:href=\"#DejaVuSans-49\"/>\r\n       <use x=\"63.623047\" xlink:href=\"#DejaVuSans-46\"/>\r\n       <use x=\"95.410156\" xlink:href=\"#DejaVuSans-48\"/>\r\n      </g>\r\n     </g>\r\n    </g>\r\n   </g>\r\n   <g id=\"line2d_33\">\r\n    <path clip-path=\"url(#pc07203206b)\" d=\"M 29.98816 219.963627 \r\nL 69.511961 219.740532 \r\nL 88.610985 219.452225 \r\nL 92.21395 219.376067 \r\nL 100.916769 219.185875 \r\nL 101.974642 219.152686 \r\nL 110.709561 218.806592 \r\nL 110.828592 218.80024 \r\nL 116.477599 218.555958 \r\nL 126.81103 217.900257 \r\nL 127.259413 217.860672 \r\nL 129.026882 217.716116 \r\nL 134.583171 217.169242 \r\nL 134.932564 217.127806 \r\nL 136.42479 216.964829 \r\nL 137.977423 216.753461 \r\nL 139.344729 216.580138 \r\nL 140.190857 216.46701 \r\nL 141.214678 216.328311 \r\nL 142.527641 216.130503 \r\nL 142.797455 216.081726 \r\nL 143.737614 215.938608 \r\nL 144.820124 215.74599 \r\nL 147.43728 215.278366 \r\nL 148.178319 215.117798 \r\nL 148.901254 214.962012 \r\nL 154.073248 213.765342 \r\nL 154.303859 213.696226 \r\nL 155.252759 213.430472 \r\nL 155.378192 213.395952 \r\nL 155.955333 213.250334 \r\nL 156.115652 213.211341 \r\nL 156.96108 212.970988 \r\nL 157.131652 212.920417 \r\nL 157.585545 212.773212 \r\nL 157.698614 212.728778 \r\nL 158.865787 212.368458 \r\nL 162.381013 211.08089 \r\nL 162.518929 211.016426 \r\nL 163.481669 210.644523 \r\nL 163.683266 210.556777 \r\nL 164.211183 210.310599 \r\nL 164.330307 210.257519 \r\nL 165.042269 209.922724 \r\nL 166.245395 209.346697 \r\nL 166.361184 209.286864 \r\nL 166.975066 208.952299 \r\nL 167.182503 208.858056 \r\nL 168.41533 208.161902 \r\nL 168.697764 207.995956 \r\nL 168.986544 207.8237 \r\nL 172.594874 205.461737 \r\nL 172.73882 205.341535 \r\nL 173.057701 205.119594 \r\nL 174.118913 204.353179 \r\nL 174.231781 204.265341 \r\nL 177.776526 200.885597 \r\nL 177.909801 200.744949 \r\nL 178.089117 200.550783 \r\nL 178.324617 200.307425 \r\nL 178.623317 200.025369 \r\nL 179.211654 199.382507 \r\nL 179.370271 199.186275 \r\nL 182.185257 195.661143 \r\nL 182.306819 195.496126 \r\nL 182.533801 195.214296 \r\nL 182.691834 195.01972 \r\nL 182.845598 194.763782 \r\nL 183.37084 193.99224 \r\nL 183.523168 193.779469 \r\nL 183.635035 193.590736 \r\nL 184.368437 192.481934 \r\nL 184.663593 192.021651 \r\nL 185.030005 191.385091 \r\nL 185.160675 191.177966 \r\nL 189.271942 183.360499 \r\nL 189.402597 183.095743 \r\nL 189.661559 182.621402 \r\nL 189.923924 182.067938 \r\nL 190.053154 181.782246 \r\nL 190.212127 181.356064 \r\nL 190.333244 181.063903 \r\nL 190.930008 179.539895 \r\nL 191.151376 179.058013 \r\nL 191.273272 178.818932 \r\nL 191.660195 177.852739 \r\nL 191.79786 177.528465 \r\nL 196.224695 165.211809 \r\nL 196.367422 164.75725 \r\nL 196.515248 164.261176 \r\nL 196.723645 163.589023 \r\nL 196.870026 163.145058 \r\nL 197.144692 162.221615 \r\nL 197.259494 161.83682 \r\nL 197.496039 161.042792 \r\nL 197.572239 160.772918 \r\nL 197.70987 160.398091 \r\nL 197.752151 160.181566 \r\nL 197.850462 159.721733 \r\nL 197.96853 159.300931 \r\nL 198.056971 158.927992 \r\nL 198.25319 158.26188 \r\nL 198.352284 157.992507 \r\nL 198.359058 158.006437 \r\nL 198.695016 156.763032 \r\nL 199.887031 152.359978 \r\nL 200.105441 151.418245 \r\nL 200.227074 151.027395 \r\nL 202.304754 142.707655 \r\nL 202.468947 141.967341 \r\nL 205.995773 126.588669 \r\nL 206.360344 124.763574 \r\nL 206.374002 124.773221 \r\nL 206.604789 123.485991 \r\nL 207.134159 120.668209 \r\nL 207.258059 120.188118 \r\nL 207.259678 120.199119 \r\nL 207.319012 119.862219 \r\nL 208.811318 112.28876 \r\nL 208.813221 112.29965 \r\nL 208.813575 112.310542 \r\nL 208.910104 111.878669 \r\nL 209.717309 107.735101 \r\nL 209.718568 107.745884 \r\nL 209.789728 107.472725 \r\nL 209.965686 106.91501 \r\nL 210.100871 106.312599 \r\nL 210.51522 104.219203 \r\nL 210.595744 103.751537 \r\nL 210.751507 102.76548 \r\nL 210.751632 102.776084 \r\nL 210.802861 102.471464 \r\nL 210.940873 101.54247 \r\nL 211.068077 100.838934 \r\nL 211.204934 100.207517 \r\nL 211.248823 99.878773 \r\nL 211.502117 98.752838 \r\nL 211.587803 98.352137 \r\nL 211.697701 97.742438 \r\nL 211.776699 97.350238 \r\nL 211.897633 96.321577 \r\nL 212.269364 93.923632 \r\nL 212.332006 93.549537 \r\nL 212.498867 92.487259 \r\nL 212.502257 92.497338 \r\nL 213.862673 86.535471 \r\nL 214.288985 84.424635 \r\nL 214.292502 84.443839 \r\nL 214.357798 84.198416 \r\nL 214.573388 83.233977 \r\nL 214.585452 83.247618 \r\nL 217.096759 71.422376 \r\nL 217.102177 71.430947 \r\nL 217.150255 71.233573 \r\nL 217.659137 68.65652 \r\nL 217.667364 68.66482 \r\nL 217.728916 68.413375 \r\nL 217.878575 67.706467 \r\nL 218.05122 67.054963 \r\nL 218.11948 66.772877 \r\nL 218.375899 66.061327 \r\nL 218.377022 66.06935 \r\nL 218.433503 65.798132 \r\nL 218.524579 65.421204 \r\nL 218.630668 65.130146 \r\nL 218.645248 65.153926 \r\nL 218.6659 65.024517 \r\nL 218.673336 65.040349 \r\nL 218.77012 64.485606 \r\nL 218.781453 64.493463 \r\nL 219.689167 61.407992 \r\nL 219.695043 61.41551 \r\nL 219.731201 61.39952 \r\nL 219.741133 61.330775 \r\nL 220.061173 59.809243 \r\nL 220.068153 59.823873 \r\nL 220.072607 59.718484 \r\nL 220.108806 59.697926 \r\nL 220.390805 59.036564 \r\nL 220.403627 59.05104 \r\nL 220.415848 59.065528 \r\nL 220.446697 58.965798 \r\nL 220.454075 58.973032 \r\nL 220.606441 58.579658 \r\nL 220.636337 58.558125 \r\nL 220.647714 58.486277 \r\nL 220.665082 58.493449 \r\nL 220.816481 57.95834 \r\nL 220.828517 57.972559 \r\nL 220.831426 57.979673 \r\nL 220.882605 57.826516 \r\nL 221.024205 57.473618 \r\nL 221.068109 57.501884 \r\nL 221.090853 57.39897 \r\nL 221.243743 57.027682 \r\nL 221.256356 57.034697 \r\nL 221.289624 57.048736 \r\nL 221.295715 56.944851 \r\nL 221.433585 56.45501 \r\nL 221.888057 55.244497 \r\nL 221.898795 55.264943 \r\nL 221.914845 55.271765 \r\nL 221.932767 55.195341 \r\nL 222.178487 54.59544 \r\nL 222.178639 54.60219 \r\nL 222.381683 54.13303 \r\nL 222.401964 54.146432 \r\nL 222.423141 54.035764 \r\nL 222.559463 53.821823 \r\nL 222.628138 53.822478 \r\nL 222.641095 53.743558 \r\nL 222.878327 53.008972 \r\nL 222.891914 53.015537 \r\nL 222.899549 52.935613 \r\nL 223.015273 52.432396 \r\nL 223.064543 52.490795 \r\nL 223.570385 50.781608 \r\nL 223.63528 50.812901 \r\nL 223.684116 50.736026 \r\nL 223.710339 50.748537 \r\nL 223.851177 50.232069 \r\nL 223.851856 50.238249 \r\nL 223.857358 50.244431 \r\nL 223.875454 50.160464 \r\nL 223.899049 50.149287 \r\nL 224.031149 49.843402 \r\nL 224.032077 49.849538 \r\nL 224.403309 49.320478 \r\nL 224.518516 48.925331 \r\nL 224.579297 48.880959 \r\nL 224.581819 48.837607 \r\nL 224.780338 48.261823 \r\nL 224.785518 48.267755 \r\nL 224.834144 48.271445 \r\nL 224.805023 48.235819 \r\nL 224.854227 48.227566 \r\nL 224.965284 48.084715 \r\nL 224.986703 48.096578 \r\nL 224.988031 48.102514 \r\nL 225.034946 47.981859 \r\nL 225.083924 48.047101 \r\nL 225.198315 47.816303 \r\nL 225.198431 47.822214 \r\nL 225.201868 47.828127 \r\nL 225.235663 47.712209 \r\nL 225.261624 47.735815 \r\nL 225.359463 47.660782 \r\nL 225.463914 47.434789 \r\nL 225.482155 47.452456 \r\nL 225.582296 47.454516 \r\nL 225.584223 47.409321 \r\nL 225.69924 47.269416 \r\nL 225.914319 46.896952 \r\nL 225.927875 46.914475 \r\nL 225.936999 46.926171 \r\nL 225.949028 46.788532 \r\nL 225.955754 46.800182 \r\nL 226.079225 46.645622 \r\nL 226.082448 46.651439 \r\nL 226.140292 46.668907 \r\nL 226.144961 46.593889 \r\nL 226.325543 46.175178 \r\nL 226.332831 46.180933 \r\nL 226.359883 46.198212 \r\nL 226.40105 46.086657 \r\nL 226.468291 45.933427 \r\nL 226.487338 45.939153 \r\nL 226.573664 45.896593 \r\nL 226.573979 45.849448 \r\nL 226.696992 45.38558 \r\nL 226.697237 45.39122 \r\nL 226.865568 45.057298 \r\nL 226.871693 45.062895 \r\nL 226.883381 45.079701 \r\nL 226.932085 44.99493 \r\nL 226.953268 45.022919 \r\nL 227.141222 44.468302 \r\nL 227.156921 44.484865 \r\nL 227.221056 44.420543 \r\nL 227.433969 44.018286 \r\nL 227.477007 44.051149 \r\nL 227.513296 44.034636 \r\nL 227.484215 44.007216 \r\nL 227.515171 43.990617 \r\nL 227.635399 43.863247 \r\nL 227.63762 43.868722 \r\nL 227.658767 43.774564 \r\nL 227.700785 43.801884 \r\nL 227.786114 43.444998 \r\nL 227.794574 43.461216 \r\nL 227.972995 43.066644 \r\nL 228.114851 42.587001 \r\nL 228.12489 42.602758 \r\nL 228.167568 42.623806 \r\nL 228.176782 42.526723 \r\nL 228.301169 42.291737 \r\nL 228.301503 42.29695 \r\nL 228.396498 42.251074 \r\nL 228.52017 42.100991 \r\nL 228.54244 42.121821 \r\nL 228.604109 42.101036 \r\nL 228.619 42.054104 \r\nL 228.728345 41.792084 \r\nL 228.744674 41.812746 \r\nL 228.958357 41.449112 \r\nL 228.986471 41.469661 \r\nL 229.20182 41.197822 \r\nL 229.226381 41.213155 \r\nL 229.235373 41.218271 \r\nL 229.237958 41.110691 \r\nL 229.246574 41.120879 \r\nL 229.698138 40.558125 \r\nL 229.714375 40.57828 \r\nL 229.785309 40.508396 \r\nL 229.881798 40.321939 \r\nL 229.906454 40.342038 \r\nL 229.909725 40.34707 \r\nL 229.928708 40.194904 \r\nL 230.058321 39.852623 \r\nL 230.098051 39.877292 \r\nL 230.1982 39.941757 \r\nL 230.223024 39.853609 \r\nL 230.334813 39.463266 \r\nL 230.338383 39.473032 \r\nL 230.383306 39.363735 \r\nL 230.416075 39.388065 \r\nL 230.508391 39.221808 \r\nL 230.532724 39.241227 \r\nL 230.642352 39.116603 \r\nL 230.652261 39.126293 \r\nL 230.957236 39.220241 \r\nL 230.965416 39.161621 \r\nL 231.092881 38.867335 \r\nL 231.178321 38.827695 \r\nL 231.267745 38.738373 \r\nL 231.32481 38.667965 \r\nL 231.456065 38.403259 \r\nL 231.470979 38.417608 \r\nL 231.48063 38.362493 \r\nL 231.520976 38.376827 \r\nL 231.64074 38.137862 \r\nL 231.839293 38.158125 \r\nL 231.869585 38.060387 \r\nL 231.942663 38.079406 \r\nL 231.996897 38.027968 \r\nL 232.080629 37.901435 \r\nL 232.104652 37.939385 \r\nL 232.165321 37.967969 \r\nL 232.182925 37.849554 \r\nL 232.358439 37.548945 \r\nL 232.391624 37.562996 \r\nL 232.405569 37.567685 \r\nL 232.411976 37.505473 \r\nL 232.445924 37.337107 \r\nL 232.524018 37.388224 \r\nL 232.619368 37.372183 \r\nL 232.634406 37.313987 \r\nL 232.832591 36.931942 \r\nL 232.833398 36.936511 \r\nL 232.939694 36.905009 \r\nL 233.050575 36.631498 \r\nL 233.214066 36.399954 \r\nL 233.222827 36.404425 \r\nL 233.334586 36.375552 \r\nL 233.409956 36.220938 \r\nL 233.447485 36.252121 \r\nL 233.568631 36.219681 \r\nL 233.589377 36.110436 \r\nL 233.685609 36.15971 \r\nL 233.757904 36.133961 \r\nL 233.764586 36.06759 \r\nL 233.856486 36.112553 \r\nL 233.891647 36.13062 \r\nL 233.897958 36.072933 \r\nL 233.934662 35.948266 \r\nL 234.028508 36.011181 \r\nL 234.399512 36.108783 \r\nL 234.403313 35.972014 \r\nL 234.510322 35.97697 \r\nL 234.760247 36.05665 \r\nL 234.866429 35.838098 \r\nL 234.870658 35.842744 \r\nL 234.952541 35.814401 \r\nL 235.041653 35.653842 \r\nL 235.080934 35.667719 \r\nL 235.167276 35.737539 \r\nL 235.174381 35.671035 \r\nL 235.264883 35.512485 \r\nL 235.279267 35.521747 \r\nL 235.505105 35.46137 \r\nL 235.581498 35.258231 \r\nL 235.628963 35.299618 \r\nL 235.693941 35.350562 \r\nL 235.699074 35.282238 \r\nL 235.766129 35.072116 \r\nL 235.849359 35.117895 \r\nL 235.965855 35.201131 \r\nL 236.315183 35.169376 \r\nL 236.437018 34.930284 \r\nL 236.586998 34.872026 \r\nL 236.652568 34.757115 \r\nL 236.697798 34.803494 \r\nL 236.814561 34.619901 \r\nL 236.820619 34.638365 \r\nL 236.974121 34.67267 \r\nL 236.98109 34.594957 \r\nL 236.997915 34.517185 \r\nL 237.101671 34.549642 \r\nL 237.214784 34.605685 \r\nL 237.215735 34.527323 \r\nL 237.323639 34.421311 \r\nL 237.324227 34.425959 \r\nL 237.36856 34.374867 \r\nL 237.477613 34.206082 \r\nL 237.494633 34.219926 \r\nL 237.496928 34.140106 \r\nL 237.516905 34.149295 \r\nL 237.621607 34.096831 \r\nL 237.646992 34.110618 \r\nL 237.650263 34.119827 \r\nL 237.704427 33.963661 \r\nL 237.772731 33.995616 \r\nL 237.776178 33.914925 \r\nL 237.886663 33.753285 \r\nL 237.888268 33.757809 \r\nL 237.915113 33.689789 \r\nL 237.993863 33.725947 \r\nL 238.025944 33.744112 \r\nL 238.036606 33.662068 \r\nL 238.128767 33.542519 \r\nL 238.154872 33.55601 \r\nL 238.267265 33.518254 \r\nL 238.363852 33.32663 \r\nL 238.377999 33.335555 \r\nL 238.469312 33.282972 \r\nL 238.565214 33.01628 \r\nL 238.618366 33.051486 \r\nL 238.688799 32.997184 \r\nL 238.767158 32.792809 \r\nL 238.813115 32.814604 \r\nL 238.815825 32.818974 \r\nL 238.835061 32.732786 \r\nL 238.876021 32.745815 \r\nL 238.889195 32.659452 \r\nL 238.985904 32.715843 \r\nL 239.398835 32.800514 \r\nL 239.501674 32.557166 \r\nL 239.510337 32.56594 \r\nL 239.685127 32.560545 \r\nL 239.791096 32.334918 \r\nL 239.815026 32.339273 \r\nL 239.841168 32.26636 \r\nL 239.924637 32.288081 \r\nL 240.293662 32.460817 \r\nL 240.566475 32.10831 \r\nL 240.588398 32.125973 \r\nL 240.72601 32.102925 \r\nL 240.775866 31.944633 \r\nL 240.83277 31.979912 \r\nL 240.930183 31.946464 \r\nL 241.018963 31.789562 \r\nL 241.041412 31.80715 \r\nL 241.045275 31.811557 \r\nL 241.047413 31.714928 \r\nL 241.078682 31.732427 \r\nL 241.080713 31.635535 \r\nL 241.17965 31.705492 \r\nL 241.627624 31.744715 \r\nL 241.673509 31.566419 \r\nL 241.719369 31.602317 \r\nL 241.959937 31.618656 \r\nL 242.010255 31.427243 \r\nL 242.06888 31.463301 \r\nL 242.127093 31.391627 \r\nL 242.150735 31.288065 \r\nL 242.254615 31.323874 \r\nL 242.277871 31.22871 \r\nL 242.362897 31.268968 \r\nL 242.605613 31.378125 \r\nL 242.614309 31.272187 \r\nL 242.699585 31.104703 \r\nL 242.732831 31.127233 \r\nL 242.942937 31.101305 \r\nL 242.945748 30.993192 \r\nL 243.051081 31.065711 \r\nL 243.260731 31.139453 \r\nL 243.316888 30.951264 \r\nL 243.355167 30.969584 \r\nL 243.949438 31.006204 \r\nL 243.952586 30.891882 \r\nL 244.061426 30.93435 \r\nL 244.218575 31.015725 \r\nL 244.332833 30.854749 \r\nL 244.347373 30.859539 \r\nL 244.440681 30.941808 \r\nL 244.440767 30.823431 \r\nL 244.61078 30.747954 \r\nL 244.629428 30.509358 \r\nL 244.735455 30.570592 \r\nL 244.767455 30.584853 \r\nL 244.792427 30.348223 \r\nL 244.885188 30.38079 \r\nL 245.022866 30.338453 \r\nL 245.033663 30.21577 \r\nL 245.122661 30.285785 \r\nL 245.566395 30.371458 \r\nL 245.584156 30.244249 \r\nL 245.672871 30.307347 \r\nL 246.303291 30.484236 \r\nL 246.30601 30.35094 \r\nL 246.388782 29.979368 \r\nL 246.443305 30.003986 \r\nL 246.671962 30.088885 \r\nL 246.920166 30.191199 \r\nL 247.031374 29.97548 \r\nL 247.036219 29.980572 \r\nL 247.117319 30.00613 \r\nL 247.176721 29.604988 \r\nL 247.244141 29.644271 \r\nL 247.370379 29.709016 \r\nL 247.508647 29.461944 \r\nL 247.990858 29.683771 \r\nL 248.101145 29.725591 \r\nL 248.595612 29.756029 \r\nL 248.601778 29.603078 \r\nL 248.678066 29.635053 \r\nL 249.009386 29.620215 \r\nL 249.01701 29.463278 \r\nL 249.123408 29.495439 \r\nL 249.322586 29.593684 \r\nL 249.324434 29.433741 \r\nL 249.408265 29.493812 \r\nL 249.742552 29.475241 \r\nL 249.744756 29.310313 \r\nL 249.854812 29.348914 \r\nL 249.980771 29.393554 \r\nL 249.981994 29.226465 \r\nL 250.08939 29.270643 \r\nL 250.64221 29.332319 \r\nL 250.647639 29.158125 \r\nL 250.749851 29.203725 \r\nL 251.004104 29.302673 \r\nL 251.012183 29.124622 \r\nL 251.120725 29.182698 \r\nL 251.122433 29.188561 \r\nL 251.1373 29.008587 \r\nL 251.160208 29.020043 \r\nL 251.164631 28.839462 \r\nL 251.269094 28.867523 \r\nL 251.915283 29.107063 \r\nL 251.991558 29.143596 \r\nL 252.000992 28.954534 \r\nL 252.085215 28.984455 \r\nL 252.591172 29.208116 \r\nL 252.621223 29.240372 \r\nL 252.641287 29.043073 \r\nL 252.687073 29.062035 \r\nL 253.027198 29.217663 \r\nL 253.071756 29.015026 \r\nL 253.117249 29.040908 \r\nL 253.423311 29.180137 \r\nL 253.440029 29.186911 \r\nL 253.440531 28.978836 \r\nL 253.550725 29.018562 \r\nL 254.11808 29.354284 \r\nL 254.472655 29.489019 \r\nL 254.49281 29.26509 \r\nL 254.592419 29.324785 \r\nL 255.027324 29.550054 \r\nL 255.041603 29.316749 \r\nL 255.151229 29.332319 \r\nL 255.495519 29.574466 \r\nL 255.847034 29.789405 \r\nL 255.852146 29.540331 \r\nL 255.962312 29.557507 \r\nL 256.085514 29.627033 \r\nL 256.465678 29.806833 \r\nL 256.548583 29.871872 \r\nL 256.617899 29.909546 \r\nL 256.65886 29.647563 \r\nL 256.761692 29.675117 \r\nL 257.293146 30.022692 \r\nL 257.855689 30.404737 \r\nL 258.065632 30.552178 \r\nL 258.178493 30.58697 \r\nL 258.451581 30.765434 \r\nL 258.670303 30.939094 \r\nL 259.060188 31.106868 \r\nL 259.176036 31.19994 \r\nL 259.184732 30.883943 \r\nL 259.282795 30.975767 \r\nL 259.838019 31.349179 \r\nL 259.951868 31.436577 \r\nL 260.012082 31.100031 \r\nL 260.101485 31.171545 \r\nL 260.86716 31.578772 \r\nL 260.968861 30.970582 \r\nL 260.987064 31.000625 \r\nL 261.754644 31.444256 \r\nL 261.75542 31.063427 \r\nL 261.846896 31.095519 \r\nL 262.092694 31.310005 \r\nL 262.213089 31.378125 \r\nL 262.900827 31.790759 \r\nL 263.249358 32.02133 \r\nL 263.57256 32.201761 \r\nL 263.606971 31.772038 \r\nL 263.676086 31.831125 \r\nL 264.061575 31.992362 \r\nL 264.090501 32.054244 \r\nL 264.10802 31.610433 \r\nL 264.113085 31.630331 \r\nL 264.440447 31.792635 \r\nL 264.939749 32.269612 \r\nL 265.115041 32.408148 \r\nL 265.126631 31.925939 \r\nL 265.200663 32.016153 \r\nL 265.424287 32.225463 \r\nL 265.570875 32.394613 \r\nL 265.639003 31.887612 \r\nL 265.705006 31.958322 \r\nL 266.254561 32.353817 \r\nL 266.309782 31.820644 \r\nL 266.398911 31.894498 \r\nL 266.53196 32.020172 \r\nL 266.644628 32.097173 \r\nL 266.701713 31.546348 \r\nL 266.767435 31.595565 \r\nL 266.928111 31.746418 \r\nL 267.061258 31.902257 \r\nL 267.073301 31.32807 \r\nL 267.15082 31.353028 \r\nL 267.315769 31.584034 \r\nL 267.379165 30.990946 \r\nL 267.40597 31.015725 \r\nL 267.686957 31.167427 \r\nL 267.689753 31.193227 \r\nL 267.834849 31.24528 \r\nL 267.853663 30.632007 \r\nL 267.937693 30.681202 \r\nL 268.02071 30.781359 \r\nL 268.033644 30.153801 \r\nL 268.129912 30.297575 \r\nL 269.140765 30.762397 \r\nL 269.267457 30.986829 \r\nL 269.448673 31.13326 \r\nL 270.416344 31.772038 \r\nL 270.665202 32.054244 \r\nL 271.093666 32.239342 \r\nL 271.561754 32.631485 \r\nL 271.788765 32.924954 \r\nL 272.328152 33.100274 \r\nL 272.489539 33.235615 \r\nL 272.748731 33.468894 \r\nL 274.099027 34.684381 \r\nL 274.161246 33.707839 \r\nL 274.258353 33.817356 \r\nL 274.952868 34.775625 \r\nL 275.115581 32.783152 \r\nL 275.128496 32.839415 \r\nL 275.388474 33.011895 \r\nL 275.414969 33.070652 \r\nL 275.935775 33.374396 \r\nL 276.081039 33.565022 \r\nL 276.474651 33.89777 \r\nL 276.508442 34.036448 \r\nL 276.656368 34.250808 \r\nL 277.478531 35.025657 \r\nL 277.937106 35.364525 \r\nL 277.951475 35.452085 \r\nL 278.366183 35.721961 \r\nL 278.536539 36.00316 \r\nL 278.90836 36.296411 \r\nL 279.349241 36.498995 \r\nL 279.514031 36.602505 \r\nL 279.544764 35.108713 \r\nL 279.800125 35.397223 \r\nL 279.834876 33.849034 \r\nL 279.854973 34.117195 \r\nL 280.429277 34.494765 \r\nL 280.533475 34.794191 \r\nL 281.296605 35.439504 \r\nL 281.319069 35.553603 \r\nL 281.85001 35.908125 \r\nL 281.938046 34.071639 \r\nL 281.948742 34.178489 \r\nL 282.05532 34.287299 \r\nL 282.242814 32.384792 \r\nL 282.297937 32.574729 \r\nL 282.948834 32.873465 \r\nL 282.955038 30.845184 \r\nL 283.026738 30.92961 \r\nL 283.31096 31.10358 \r\nL 283.352225 31.378125 \r\nL 283.480455 31.473493 \r\nL 284.031243 31.670383 \r\nL 284.16901 31.875927 \r\nL 284.178766 31.982125 \r\nL 284.343392 32.201761 \r\nL 284.704459 32.924954 \r\nL 284.869281 30.371458 \r\nL 284.892778 30.57534 \r\nL 285.090691 30.789813 \r\nL 285.828299 31.015725 \r\nL 285.910447 31.378125 \r\nL 286.118255 31.505731 \r\nL 286.57955 31.636982 \r\nL 286.590522 31.772038 \r\nL 286.789492 32.054244 \r\nL 286.958036 32.353817 \r\nL 287.019857 29.113125 \r\nL 287.122035 29.220982 \r\nL 287.404755 29.447305 \r\nL 287.63082 29.947599 \r\nL 287.919195 30.371458 \r\nL 288.956817 30.845184 \r\nL 289.658932 31.378125 \r\nL 290.089565 31.772038 \r\nL 290.871302 31.982125 \r\nL 291.198038 32.431613 \r\nL 291.672191 32.672411 \r\nL 291.78707 32.924954 \r\nL 292.689528 33.762336 \r\nL 292.701851 28.194882 \r\nL 296.159387 29.566125 \r\nL 296.983361 29.816056 \r\nL 298.539349 30.083839 \r\nL 298.662531 30.371458 \r\nL 300.093797 30.681202 \r\nL 301.550765 31.772038 \r\nL 302.29502 32.201761 \r\nL 303.472291 32.672411 \r\nL 303.861902 33.190125 \r\nL 304.004695 33.762336 \r\nL 304.709612 34.398125 \r\nL 306.308906 35.108713 \r\nL 306.675049 35.908125 \r\nL 307.110322 39.044279 \r\nL 309.633446 40.438125 \r\nL 310.980164 42.085398 \r\nL 312.867942 44.062125 \r\nL 313.120302 46.478125 \r\nL 313.774728 49.498125 \r\nL 313.846288 53.380982 \r\nL 315.09967 58.558125 \r\nL 315.84844 65.806125 \r\nL 320.038636 22.318125 \r\nL 340.240867 22.318125 \r\nL 340.240867 22.318125 \r\n\" style=\"fill:none;stroke:#0000ff;stroke-dasharray:5.55,2.4;stroke-dashoffset:0;stroke-width:1.5;\"/>\r\n   </g>\r\n   <g id=\"line2d_34\">\r\n    <path clip-path=\"url(#pc07203206b)\" d=\"M 29.98816 22.358236 \r\nL 56.148566 22.438457 \r\nL 56.227753 22.478568 \r\nL 89.433525 22.558789 \r\nL 89.61065 22.5989 \r\nL 94.437864 22.679121 \r\nL 94.549857 22.719232 \r\nL 98.025938 22.799453 \r\nL 98.159402 22.839564 \r\nL 99.33566 22.919785 \r\nL 99.476189 22.959896 \r\nL 112.21471 23.040117 \r\nL 112.322597 23.080228 \r\nL 117.402112 23.160449 \r\nL 117.534008 23.20056 \r\nL 122.771555 23.280781 \r\nL 122.908986 23.361003 \r\nL 127.631395 23.441224 \r\nL 127.759307 23.481335 \r\nL 135.227456 23.561556 \r\nL 135.331767 23.601667 \r\nL 135.54644 23.681888 \r\nL 135.648927 23.721999 \r\nL 139.642268 23.80222 \r\nL 139.759595 23.882442 \r\nL 143.28412 23.962663 \r\nL 143.404428 24.002774 \r\nL 147.218572 24.082995 \r\nL 147.317587 24.123106 \r\nL 150.479662 24.203327 \r\nL 150.584428 24.243438 \r\nL 151.850877 24.323659 \r\nL 151.964786 24.36377 \r\nL 152.734299 24.443991 \r\nL 152.847953 24.484102 \r\nL 154.022903 24.564323 \r\nL 154.135083 24.604434 \r\nL 156.092992 24.684655 \r\nL 156.201912 24.724766 \r\nL 157.793171 24.804987 \r\nL 157.905828 24.845098 \r\nL 159.032267 24.925319 \r\nL 159.14332 24.96543 \r\nL 160.908285 25.045651 \r\nL 161.020282 25.085762 \r\nL 163.076337 25.165983 \r\nL 163.188785 25.206094 \r\nL 163.787252 25.286315 \r\nL 163.901655 25.366537 \r\nL 165.85117 25.446758 \r\nL 165.96319 25.486869 \r\nL 168.774044 25.56709 \r\nL 168.882459 25.607201 \r\nL 170.616149 25.687422 \r\nL 170.726186 25.727533 \r\nL 171.12414 25.807754 \r\nL 171.234756 25.847865 \r\nL 172.005395 25.928086 \r\nL 172.116926 25.968197 \r\nL 173.108672 26.048418 \r\nL 173.219537 26.088529 \r\nL 173.73169 26.16875 \r\nL 173.845859 26.329193 \r\nL 174.539357 26.409414 \r\nL 174.652809 26.449525 \r\nL 175.616387 26.529746 \r\nL 175.726802 26.609968 \r\nL 175.991039 26.690189 \r\nL 176.106864 26.770411 \r\nL 176.329042 26.850632 \r\nL 176.440312 26.890743 \r\nL 178.278177 26.970964 \r\nL 178.384635 27.051185 \r\nL 178.935658 27.131407 \r\nL 179.04601 27.171517 \r\nL 179.732827 27.251739 \r\nL 179.84379 27.291849 \r\nL 180.184395 27.372071 \r\nL 180.296894 27.412181 \r\nL 180.7129 27.492403 \r\nL 180.821738 27.572624 \r\nL 181.483584 27.652846 \r\nL 181.59515 27.733067 \r\nL 182.313097 27.813288 \r\nL 182.422671 27.89351 \r\nL 182.94781 27.973731 \r\nL 183.064756 28.053952 \r\nL 183.65073 28.134174 \r\nL 183.76428 28.174284 \r\nL 184.60413 28.254506 \r\nL 184.718889 28.294616 \r\nL 185.168839 28.374838 \r\nL 185.279181 28.414948 \r\nL 186.605866 28.49517 \r\nL 186.714238 28.575391 \r\nL 186.951296 28.655613 \r\nL 187.063491 28.775945 \r\nL 187.393037 28.856166 \r\nL 187.503277 28.896277 \r\nL 187.8373 28.976498 \r\nL 187.94854 29.016609 \r\nL 188.528456 29.09683 \r\nL 188.639464 29.136941 \r\nL 188.934234 29.217162 \r\nL 189.040658 29.257273 \r\nL 189.247716 29.337494 \r\nL 189.358198 29.457826 \r\nL 189.730983 29.538048 \r\nL 189.842536 29.65838 \r\nL 189.989266 29.738601 \r\nL 190.09872 29.778712 \r\nL 190.360827 29.858933 \r\nL 190.47222 29.899044 \r\nL 190.605594 29.979265 \r\nL 190.716283 30.019376 \r\nL 190.944665 30.099597 \r\nL 191.060321 30.179818 \r\nL 191.405979 30.26004 \r\nL 191.517979 30.380372 \r\nL 191.765588 30.460593 \r\nL 191.879309 30.540815 \r\nL 192.227969 30.621036 \r\nL 192.340063 30.701257 \r\nL 192.666794 30.781479 \r\nL 192.779697 30.821589 \r\nL 193.224193 30.901811 \r\nL 193.335152 30.982032 \r\nL 193.512231 31.062253 \r\nL 193.620997 31.182585 \r\nL 193.988335 31.262807 \r\nL 194.099485 31.302917 \r\nL 194.465596 31.383139 \r\nL 194.581017 31.46336 \r\nL 194.691076 31.543582 \r\nL 194.801055 31.704024 \r\nL 194.993937 31.784246 \r\nL 195.11945 31.984799 \r\nL 195.398331 32.06502 \r\nL 195.513013 32.185352 \r\nL 195.652149 32.265574 \r\nL 195.770414 32.426017 \r\nL 195.86354 32.506238 \r\nL 195.976584 32.62657 \r\nL 196.090196 32.706791 \r\nL 196.197542 32.787013 \r\nL 196.29743 32.867234 \r\nL 196.417498 32.907345 \r\nL 196.524883 32.987566 \r\nL 196.636557 33.22823 \r\nL 196.893127 33.308452 \r\nL 197.004287 33.468894 \r\nL 197.327103 33.549116 \r\nL 197.437513 33.669448 \r\nL 197.624487 33.749669 \r\nL 197.737748 33.910112 \r\nL 197.873715 33.990333 \r\nL 197.994212 34.110665 \r\nL 198.034997 34.190886 \r\nL 198.144364 34.230997 \r\nL 198.332473 34.311219 \r\nL 198.487427 34.591993 \r\nL 198.610033 34.672215 \r\nL 198.720192 34.712325 \r\nL 198.967875 34.792547 \r\nL 199.082981 34.912879 \r\nL 199.2156 34.9931 \r\nL 199.32779 35.113432 \r\nL 199.477771 35.193654 \r\nL 199.588709 35.313986 \r\nL 199.790013 35.394207 \r\nL 199.90114 35.474428 \r\nL 200.110011 35.55465 \r\nL 200.225231 35.715092 \r\nL 200.364646 35.795314 \r\nL 200.47118 35.955756 \r\nL 200.698617 36.035978 \r\nL 200.820234 36.15631 \r\nL 200.906537 36.236531 \r\nL 201.035403 36.437085 \r\nL 201.112142 36.517306 \r\nL 201.221129 36.597527 \r\nL 201.418001 36.677749 \r\nL 201.530488 36.838191 \r\nL 201.68878 36.918413 \r\nL 201.808815 37.078855 \r\nL 201.913068 37.159077 \r\nL 202.038809 37.199188 \r\nL 202.081743 37.279409 \r\nL 202.189666 37.35963 \r\nL 202.310347 37.439852 \r\nL 202.511537 37.520073 \r\nL 202.624415 37.720626 \r\nL 202.762143 37.800848 \r\nL 202.880149 38.081623 \r\nL 202.993673 38.161844 \r\nL 203.110238 38.322287 \r\nL 203.250068 38.402508 \r\nL 203.353497 38.482729 \r\nL 203.467784 38.562951 \r\nL 203.581387 38.723393 \r\nL 203.648724 38.803615 \r\nL 203.769838 38.883836 \r\nL 203.832091 38.964057 \r\nL 203.971639 39.08439 \r\nL 204.126347 39.164611 \r\nL 204.254481 39.525607 \r\nL 204.469338 39.605828 \r\nL 204.599999 39.72616 \r\nL 204.869784 39.806382 \r\nL 204.989257 39.966825 \r\nL 205.086928 40.047046 \r\nL 205.22963 40.448153 \r\nL 205.306525 40.528374 \r\nL 205.416328 40.648706 \r\nL 205.491686 40.728927 \r\nL 205.621227 40.929481 \r\nL 205.699417 41.009702 \r\nL 205.851358 41.290477 \r\nL 206.013911 41.370698 \r\nL 206.135824 41.771805 \r\nL 206.19241 41.852026 \r\nL 206.305346 41.892137 \r\nL 206.355932 41.972359 \r\nL 206.490188 42.373465 \r\nL 206.612021 42.453687 \r\nL 206.725467 42.694351 \r\nL 206.808158 42.774572 \r\nL 206.925532 43.015236 \r\nL 207.037121 43.095458 \r\nL 207.164259 43.336122 \r\nL 207.179028 43.416343 \r\nL 207.297976 43.536675 \r\nL 207.461251 43.616896 \r\nL 207.598064 43.777339 \r\nL 207.626124 43.857561 \r\nL 207.741383 43.977893 \r\nL 207.780301 44.058114 \r\nL 207.90226 44.218557 \r\nL 207.963531 44.298778 \r\nL 208.075689 44.539442 \r\nL 208.144947 44.619663 \r\nL 208.266519 44.900438 \r\nL 208.355641 44.98066 \r\nL 208.467622 45.060881 \r\nL 208.649469 45.421877 \r\nL 208.813221 45.502098 \r\nL 208.923029 45.662541 \r\nL 209.044105 45.742763 \r\nL 209.168776 45.903205 \r\nL 209.197447 45.983427 \r\nL 209.307984 46.143869 \r\nL 209.322761 46.224091 \r\nL 209.475454 46.464755 \r\nL 209.550826 46.544976 \r\nL 209.670472 46.74553 \r\nL 209.717309 46.825751 \r\nL 209.830192 46.946083 \r\nL 209.875908 47.026304 \r\nL 209.989231 47.146636 \r\nL 210.027157 47.226858 \r\nL 210.139739 47.34719 \r\nL 210.225287 47.427411 \r\nL 210.338713 47.547743 \r\nL 210.402092 47.627965 \r\nL 210.539181 47.828518 \r\nL 210.691235 47.908739 \r\nL 210.802861 48.149403 \r\nL 210.947264 48.229625 \r\nL 211.060886 48.510399 \r\nL 211.119645 48.590621 \r\nL 211.25121 48.710953 \r\nL 211.338053 48.791174 \r\nL 211.480976 49.071949 \r\nL 211.539326 49.15217 \r\nL 211.650453 49.432945 \r\nL 211.781331 49.513167 \r\nL 211.899818 49.673609 \r\nL 211.936681 49.753831 \r\nL 212.074017 49.954384 \r\nL 212.193582 50.034605 \r\nL 212.307543 50.235159 \r\nL 212.380565 50.31538 \r\nL 212.502257 50.636266 \r\nL 212.556527 50.716487 \r\nL 212.697324 50.997262 \r\nL 212.734808 51.077483 \r\nL 212.99306 51.719254 \r\nL 213.033479 51.799475 \r\nL 213.170126 52.160471 \r\nL 213.297169 52.240693 \r\nL 213.502049 52.922574 \r\nL 213.560269 53.002796 \r\nL 213.72271 53.484124 \r\nL 213.768528 53.564345 \r\nL 213.895063 53.805009 \r\nL 213.994421 53.885231 \r\nL 214.142385 54.085784 \r\nL 214.227823 54.166005 \r\nL 214.470971 54.887998 \r\nL 214.49714 54.968219 \r\nL 214.628917 55.329215 \r\nL 214.697045 55.409437 \r\nL 214.821893 55.850654 \r\nL 214.912397 55.930875 \r\nL 215.0589 56.412204 \r\nL 215.137601 56.492425 \r\nL 215.25423 56.652868 \r\nL 215.461748 57.495192 \r\nL 215.489737 57.575413 \r\nL 215.726467 58.217184 \r\nL 215.747984 58.297406 \r\nL 215.857923 58.497959 \r\nL 216.023112 58.979287 \r\nL 216.105457 59.059509 \r\nL 216.206189 59.300173 \r\nL 216.23977 59.380394 \r\nL 216.418104 60.022165 \r\nL 216.94734 61.546371 \r\nL 217.021132 61.626592 \r\nL 217.169793 61.987588 \r\nL 217.20404 62.06781 \r\nL 217.338944 62.66947 \r\nL 217.388898 62.749691 \r\nL 217.600475 63.391462 \r\nL 217.788823 63.792569 \r\nL 217.814593 63.87279 \r\nL 218.163636 64.675004 \r\nL 218.234071 64.755225 \r\nL 218.451033 65.156332 \r\nL 218.493907 65.236553 \r\nL 218.610764 65.63766 \r\nL 218.853785 66.600316 \r\nL 218.99484 66.80087 \r\nL 219.062606 66.881091 \r\nL 219.321955 67.643194 \r\nL 219.346527 67.723416 \r\nL 219.535843 68.405297 \r\nL 219.575484 68.485518 \r\nL 219.803457 69.047068 \r\nL 219.866448 69.127289 \r\nL 219.96032 69.287732 \r\nL 220.025297 69.367953 \r\nL 220.160488 69.809171 \r\nL 220.207986 69.889392 \r\nL 220.417118 70.771827 \r\nL 220.530796 70.852049 \r\nL 220.647714 71.092713 \r\nL 220.897468 71.935037 \r\nL 220.990312 72.296033 \r\nL 221.2272 72.897693 \r\nL 221.395523 73.539464 \r\nL 221.638795 74.46201 \r\nL 221.776653 74.943338 \r\nL 222.056784 75.865884 \r\nL 223.837433 81.802264 \r\nL 223.875454 81.882486 \r\nL 224.203627 83.28636 \r\nL 224.252361 83.366581 \r\nL 224.365677 83.727577 \r\nL 224.629326 84.730344 \r\nL 224.6822 84.810566 \r\nL 225.052558 86.575435 \r\nL 225.201868 87.056764 \r\nL 225.230922 87.136985 \r\nL 225.452758 88.300195 \r\nL 225.852796 89.583737 \r\nL 226.004453 90.466171 \r\nL 226.082448 90.787057 \r\nL 226.144695 90.98761 \r\nL 226.256723 91.348606 \r\nL 226.422932 92.110709 \r\nL 226.876162 93.875579 \r\nL 227.011974 94.637682 \r\nL 227.026118 94.717904 \r\nL 227.221056 95.480007 \r\nL 227.242451 95.560228 \r\nL 227.329431 95.961335 \r\nL 227.616351 97.525651 \r\nL 227.658767 97.605873 \r\nL 227.794574 98.247644 \r\nL 227.843984 98.327865 \r\nL 227.991636 98.809193 \r\nL 228.180721 99.611407 \r\nL 228.301503 100.213067 \r\nL 228.380479 100.533952 \r\nL 228.82738 102.419154 \r\nL 228.930168 103.221368 \r\nL 229.052711 103.702696 \r\nL 229.45461 105.427455 \r\nL 229.475978 105.507677 \r\nL 229.595058 106.30989 \r\nL 229.646186 106.390112 \r\nL 229.781218 107.031883 \r\nL 230.007225 108.315424 \r\nL 230.092405 108.596199 \r\nL 230.208828 109.318191 \r\nL 230.222275 109.398413 \r\nL 230.338383 110.040184 \r\nL 230.383995 110.120405 \r\nL 230.811665 112.20616 \r\nL 230.976637 113.208927 \r\nL 232.098886 117.340328 \r\nL 232.233471 117.901877 \r\nL 233.498967 122.875601 \r\nL 233.700996 124.199254 \r\nL 233.893067 125.041578 \r\nL 234.028508 125.76357 \r\nL 234.548725 128.731761 \r\nL 234.746913 129.654307 \r\nL 235.145997 131.699951 \r\nL 235.363481 132.702718 \r\nL 235.431134 132.78294 \r\nL 235.605125 133.464821 \r\nL 236.074722 135.590687 \r\nL 236.207003 135.991794 \r\nL 236.36762 136.593454 \r\nL 238.181665 144.856254 \r\nL 238.219743 144.936476 \r\nL 238.469312 146.099686 \r\nL 238.493016 146.179907 \r\nL 238.60499 146.982121 \r\nL 239.028738 148.907433 \r\nL 239.165965 149.549204 \r\nL 239.477537 150.431639 \r\nL 239.615235 151.153631 \r\nL 239.667892 151.233853 \r\nL 239.791096 151.715181 \r\nL 239.93324 152.156398 \r\nL 240.570594 154.723482 \r\nL 240.728594 155.485585 \r\nL 240.775866 155.76636 \r\nL 240.943677 156.729016 \r\nL 241.158418 157.852115 \r\nL 241.257458 158.373554 \r\nL 241.414963 159.135657 \r\nL 241.563093 159.657096 \r\nL 241.783936 160.860416 \r\nL 241.880234 161.221412 \r\nL 242.164799 162.464843 \r\nL 242.254615 162.705507 \r\nL 242.464298 163.347278 \r\nL 242.605123 164.069271 \r\nL 242.710607 164.550599 \r\nL 242.898359 165.312702 \r\nL 243.187837 166.516022 \r\nL 243.261928 166.716575 \r\nL 243.355167 167.157793 \r\nL 243.436987 167.398457 \r\nL 244.820628 172.933731 \r\nL 244.920628 173.214506 \r\nL 245.177902 174.65849 \r\nL 245.344219 175.340372 \r\nL 246.447876 179.592104 \r\nL 246.618113 179.912989 \r\nL 246.769752 180.55476 \r\nL 247.262679 182.31963 \r\nL 247.39079 182.760848 \r\nL 247.719049 183.683393 \r\nL 247.824777 184.04439 \r\nL 247.90282 184.244943 \r\nL 248.547627 186.41092 \r\nL 248.622372 186.611473 \r\nL 248.720703 186.812026 \r\nL 248.835539 186.972469 \r\nL 249.021049 187.854904 \r\nL 249.116992 188.015347 \r\nL 249.408265 189.218667 \r\nL 249.512993 189.419221 \r\nL 249.76921 190.301656 \r\nL 249.900331 190.702763 \r\nL 250.17819 191.304423 \r\nL 250.271482 191.545087 \r\nL 251.823662 195.997372 \r\nL 251.975668 196.358368 \r\nL 252.838231 198.885341 \r\nL 252.995345 199.246338 \r\nL 253.211182 199.767776 \r\nL 253.640428 201.251872 \r\nL 253.859998 201.973864 \r\nL 254.068634 202.374971 \r\nL 254.199928 202.655745 \r\nL 254.259236 202.896409 \r\nL 254.513332 203.377738 \r\nL 254.592251 203.578291 \r\nL 254.688238 203.899176 \r\nL 254.818677 204.179951 \r\nL 255.086268 204.821722 \r\nL 255.180077 204.982165 \r\nL 255.351674 205.623936 \r\nL 255.553593 206.345928 \r\nL 255.655975 206.626703 \r\nL 256.035886 207.348695 \r\nL 256.469935 208.351462 \r\nL 256.548583 208.552015 \r\nL 256.714198 208.79268 \r\nL 256.83109 209.033344 \r\nL 257.024542 209.594893 \r\nL 257.628625 211.279542 \r\nL 257.706904 211.439984 \r\nL 257.855689 211.720759 \r\nL 257.957144 211.881202 \r\nL 258.071602 212.322419 \r\nL 258.27463 212.482862 \r\nL 258.464949 213.084522 \r\nL 258.598145 213.325186 \r\nL 258.670303 213.52574 \r\nL 258.939163 213.766404 \r\nL 259.219973 214.448285 \r\nL 259.39235 214.769171 \r\nL 259.60644 215.29061 \r\nL 259.727696 215.491163 \r\nL 259.838019 215.691717 \r\nL 259.944028 215.852159 \r\nL 260.082466 216.092823 \r\nL 260.523802 216.774705 \r\nL 261.286014 218.058247 \r\nL 261.473707 218.499464 \r\nL 261.75542 218.700018 \r\nL 261.956639 219.020903 \r\nL 262.276033 219.622563 \r\nL 262.337498 219.702785 \r\nL 262.485171 219.863227 \r\nL 263.347421 221.026437 \r\nL 263.606971 221.226991 \r\nL 264.698695 222.590754 \r\nL 264.824367 222.831418 \r\nL 265.0047 223.112193 \r\nL 265.344745 223.633631 \r\nL 266.121231 224.796841 \r\nL 266.412263 224.997395 \r\nL 266.420998 225.117727 \r\nL 266.767435 225.358391 \r\nL 266.905081 225.518833 \r\nL 267.40597 226.280936 \r\nL 267.632153 226.441379 \r\nL 268.004679 226.842486 \r\nL 268.28691 227.283703 \r\nL 269.10454 227.765031 \r\nL 269.222222 228.126028 \r\nL 271.788765 230.372226 \r\nL 272.328152 230.532668 \r\nL 272.489539 230.653 \r\nL 272.963287 230.973886 \r\nL 273.069918 231.134329 \r\nL 273.854289 231.575546 \r\nL 274.099027 231.7761 \r\nL 274.258353 231.856321 \r\nL 275.128496 232.658535 \r\nL 275.414969 232.818977 \r\nL 275.953734 233.059641 \r\nL 276.284831 233.220084 \r\nL 276.644335 233.500859 \r\nL 276.721389 233.58108 \r\nL 277.283952 233.861855 \r\nL 277.296364 233.901966 \r\nL 278.123019 234.18274 \r\nL 282.622048 235.747057 \r\nL 283.31096 235.94761 \r\nL 283.352225 236.067942 \r\nL 283.480455 236.108053 \r\nL 284.16901 236.268496 \r\nL 284.178766 236.308606 \r\nL 284.653288 236.549271 \r\nL 284.704459 236.629492 \r\nL 284.892778 236.709713 \r\nL 285.090691 236.789935 \r\nL 285.863223 236.950377 \r\nL 286.118255 237.030599 \r\nL 286.789492 237.191041 \r\nL 287.122035 237.311373 \r\nL 287.564109 237.471816 \r\nL 287.63082 237.552038 \r\nL 288.358491 237.71248 \r\nL 291.672191 238.153698 \r\nL 292.348213 238.27403 \r\nL 295.209116 238.554805 \r\nL 304.004695 239.036133 \r\nL 310.980164 239.357018 \r\nL 313.846288 239.517461 \r\nL 315.84844 239.597682 \r\nL 332.193677 239.677904 \r\nL 340.240867 239.718014 \r\nL 340.240867 239.718014 \r\n\" style=\"fill:none;stroke:#008000;stroke-dasharray:5.55,2.4;stroke-dashoffset:0;stroke-width:1.5;\"/>\r\n   </g>\r\n   <g id=\"line2d_35\">\r\n    <path clip-path=\"url(#pc07203206b)\" d=\"M 30.103125 44.018286 \r\nL 364.903125 44.018286 \r\n\" style=\"fill:none;stroke:#ffa500;stroke-dasharray:5.55,2.4;stroke-dashoffset:0;stroke-width:1.5;\"/>\r\n   </g>\r\n   <g id=\"line2d_36\">\r\n    <path clip-path=\"url(#pc07203206b)\" d=\"M 30.103125 96.482774 \r\nL 364.903125 96.482774 \r\n\" style=\"fill:none;stroke:#ffa500;stroke-dasharray:5.55,2.4;stroke-dashoffset:0;stroke-width:1.5;\"/>\r\n   </g>\r\n   <g id=\"line2d_37\">\r\n    <path clip-path=\"url(#pc07203206b)\" d=\"M 227.433969 239.758125 \r\nL 227.433969 22.318125 \r\n\" style=\"fill:none;stroke:#ffa500;stroke-dasharray:5.55,2.4;stroke-dashoffset:0;stroke-width:1.5;\"/>\r\n   </g>\r\n   <g id=\"patch_3\">\r\n    <path d=\"M 30.103125 239.758125 \r\nL 30.103125 22.318125 \r\n\" style=\"fill:none;stroke:#000000;stroke-linecap:square;stroke-linejoin:miter;stroke-width:0.8;\"/>\r\n   </g>\r\n   <g id=\"patch_4\">\r\n    <path d=\"M 364.903125 239.758125 \r\nL 364.903125 22.318125 \r\n\" style=\"fill:none;stroke:#000000;stroke-linecap:square;stroke-linejoin:miter;stroke-width:0.8;\"/>\r\n   </g>\r\n   <g id=\"patch_5\">\r\n    <path d=\"M 30.103125 239.758125 \r\nL 364.903125 239.758125 \r\n\" style=\"fill:none;stroke:#000000;stroke-linecap:square;stroke-linejoin:miter;stroke-width:0.8;\"/>\r\n   </g>\r\n   <g id=\"patch_6\">\r\n    <path d=\"M 30.103125 22.318125 \r\nL 364.903125 22.318125 \r\n\" style=\"fill:none;stroke:#000000;stroke-linecap:square;stroke-linejoin:miter;stroke-width:0.8;\"/>\r\n   </g>\r\n   <g id=\"text_17\">\r\n    <!-- Threshold -->\r\n    <g transform=\"translate(167.937188 16.318125)scale(0.12 -0.12)\">\r\n     <defs>\r\n      <path d=\"M -0.296875 72.90625 \r\nL 61.375 72.90625 \r\nL 61.375 64.59375 \r\nL 35.5 64.59375 \r\nL 35.5 0 \r\nL 25.59375 0 \r\nL 25.59375 64.59375 \r\nL -0.296875 64.59375 \r\nz\r\n\" id=\"DejaVuSans-84\"/>\r\n      <path d=\"M 54.890625 33.015625 \r\nL 54.890625 0 \r\nL 45.90625 0 \r\nL 45.90625 32.71875 \r\nQ 45.90625 40.484375 42.875 44.328125 \r\nQ 39.84375 48.1875 33.796875 48.1875 \r\nQ 26.515625 48.1875 22.3125 43.546875 \r\nQ 18.109375 38.921875 18.109375 30.90625 \r\nL 18.109375 0 \r\nL 9.078125 0 \r\nL 9.078125 75.984375 \r\nL 18.109375 75.984375 \r\nL 18.109375 46.1875 \r\nQ 21.34375 51.125 25.703125 53.5625 \r\nQ 30.078125 56 35.796875 56 \r\nQ 45.21875 56 50.046875 50.171875 \r\nQ 54.890625 44.34375 54.890625 33.015625 \r\nz\r\n\" id=\"DejaVuSans-104\"/>\r\n      <path d=\"M 41.109375 46.296875 \r\nQ 39.59375 47.171875 37.8125 47.578125 \r\nQ 36.03125 48 33.890625 48 \r\nQ 26.265625 48 22.1875 43.046875 \r\nQ 18.109375 38.09375 18.109375 28.8125 \r\nL 18.109375 0 \r\nL 9.078125 0 \r\nL 9.078125 54.6875 \r\nL 18.109375 54.6875 \r\nL 18.109375 46.1875 \r\nQ 20.953125 51.171875 25.484375 53.578125 \r\nQ 30.03125 56 36.53125 56 \r\nQ 37.453125 56 38.578125 55.875 \r\nQ 39.703125 55.765625 41.0625 55.515625 \r\nz\r\n\" id=\"DejaVuSans-114\"/>\r\n      <path d=\"M 56.203125 29.59375 \r\nL 56.203125 25.203125 \r\nL 14.890625 25.203125 \r\nQ 15.484375 15.921875 20.484375 11.0625 \r\nQ 25.484375 6.203125 34.421875 6.203125 \r\nQ 39.59375 6.203125 44.453125 7.46875 \r\nQ 49.3125 8.734375 54.109375 11.28125 \r\nL 54.109375 2.78125 \r\nQ 49.265625 0.734375 44.1875 -0.34375 \r\nQ 39.109375 -1.421875 33.890625 -1.421875 \r\nQ 20.796875 -1.421875 13.15625 6.1875 \r\nQ 5.515625 13.8125 5.515625 26.8125 \r\nQ 5.515625 40.234375 12.765625 48.109375 \r\nQ 20.015625 56 32.328125 56 \r\nQ 43.359375 56 49.78125 48.890625 \r\nQ 56.203125 41.796875 56.203125 29.59375 \r\nz\r\nM 47.21875 32.234375 \r\nQ 47.125 39.59375 43.09375 43.984375 \r\nQ 39.0625 48.390625 32.421875 48.390625 \r\nQ 24.90625 48.390625 20.390625 44.140625 \r\nQ 15.875 39.890625 15.1875 32.171875 \r\nz\r\n\" id=\"DejaVuSans-101\"/>\r\n      <path d=\"M 44.28125 53.078125 \r\nL 44.28125 44.578125 \r\nQ 40.484375 46.53125 36.375 47.5 \r\nQ 32.28125 48.484375 27.875 48.484375 \r\nQ 21.1875 48.484375 17.84375 46.4375 \r\nQ 14.5 44.390625 14.5 40.28125 \r\nQ 14.5 37.15625 16.890625 35.375 \r\nQ 19.28125 33.59375 26.515625 31.984375 \r\nL 29.59375 31.296875 \r\nQ 39.15625 29.25 43.1875 25.515625 \r\nQ 47.21875 21.78125 47.21875 15.09375 \r\nQ 47.21875 7.46875 41.1875 3.015625 \r\nQ 35.15625 -1.421875 24.609375 -1.421875 \r\nQ 20.21875 -1.421875 15.453125 -0.5625 \r\nQ 10.6875 0.296875 5.421875 2 \r\nL 5.421875 11.28125 \r\nQ 10.40625 8.6875 15.234375 7.390625 \r\nQ 20.0625 6.109375 24.8125 6.109375 \r\nQ 31.15625 6.109375 34.5625 8.28125 \r\nQ 37.984375 10.453125 37.984375 14.40625 \r\nQ 37.984375 18.0625 35.515625 20.015625 \r\nQ 33.0625 21.96875 24.703125 23.78125 \r\nL 21.578125 24.515625 \r\nQ 13.234375 26.265625 9.515625 29.90625 \r\nQ 5.8125 33.546875 5.8125 39.890625 \r\nQ 5.8125 47.609375 11.28125 51.796875 \r\nQ 16.75 56 26.8125 56 \r\nQ 31.78125 56 36.171875 55.265625 \r\nQ 40.578125 54.546875 44.28125 53.078125 \r\nz\r\n\" id=\"DejaVuSans-115\"/>\r\n      <path d=\"M 30.609375 48.390625 \r\nQ 23.390625 48.390625 19.1875 42.75 \r\nQ 14.984375 37.109375 14.984375 27.296875 \r\nQ 14.984375 17.484375 19.15625 11.84375 \r\nQ 23.34375 6.203125 30.609375 6.203125 \r\nQ 37.796875 6.203125 41.984375 11.859375 \r\nQ 46.1875 17.53125 46.1875 27.296875 \r\nQ 46.1875 37.015625 41.984375 42.703125 \r\nQ 37.796875 48.390625 30.609375 48.390625 \r\nz\r\nM 30.609375 56 \r\nQ 42.328125 56 49.015625 48.375 \r\nQ 55.71875 40.765625 55.71875 27.296875 \r\nQ 55.71875 13.875 49.015625 6.21875 \r\nQ 42.328125 -1.421875 30.609375 -1.421875 \r\nQ 18.84375 -1.421875 12.171875 6.21875 \r\nQ 5.515625 13.875 5.515625 27.296875 \r\nQ 5.515625 40.765625 12.171875 48.375 \r\nQ 18.84375 56 30.609375 56 \r\nz\r\n\" id=\"DejaVuSans-111\"/>\r\n      <path d=\"M 9.421875 75.984375 \r\nL 18.40625 75.984375 \r\nL 18.40625 0 \r\nL 9.421875 0 \r\nz\r\n\" id=\"DejaVuSans-108\"/>\r\n      <path d=\"M 45.40625 46.390625 \r\nL 45.40625 75.984375 \r\nL 54.390625 75.984375 \r\nL 54.390625 0 \r\nL 45.40625 0 \r\nL 45.40625 8.203125 \r\nQ 42.578125 3.328125 38.25 0.953125 \r\nQ 33.9375 -1.421875 27.875 -1.421875 \r\nQ 17.96875 -1.421875 11.734375 6.484375 \r\nQ 5.515625 14.40625 5.515625 27.296875 \r\nQ 5.515625 40.1875 11.734375 48.09375 \r\nQ 17.96875 56 27.875 56 \r\nQ 33.9375 56 38.25 53.625 \r\nQ 42.578125 51.265625 45.40625 46.390625 \r\nz\r\nM 14.796875 27.296875 \r\nQ 14.796875 17.390625 18.875 11.75 \r\nQ 22.953125 6.109375 30.078125 6.109375 \r\nQ 37.203125 6.109375 41.296875 11.75 \r\nQ 45.40625 17.390625 45.40625 27.296875 \r\nQ 45.40625 37.203125 41.296875 42.84375 \r\nQ 37.203125 48.484375 30.078125 48.484375 \r\nQ 22.953125 48.484375 18.875 42.84375 \r\nQ 14.796875 37.203125 14.796875 27.296875 \r\nz\r\n\" id=\"DejaVuSans-100\"/>\r\n     </defs>\r\n     <use xlink:href=\"#DejaVuSans-84\"/>\r\n     <use x=\"61.083984\" xlink:href=\"#DejaVuSans-104\"/>\r\n     <use x=\"124.462891\" xlink:href=\"#DejaVuSans-114\"/>\r\n     <use x=\"163.326172\" xlink:href=\"#DejaVuSans-101\"/>\r\n     <use x=\"224.849609\" xlink:href=\"#DejaVuSans-115\"/>\r\n     <use x=\"276.949219\" xlink:href=\"#DejaVuSans-104\"/>\r\n     <use x=\"340.328125\" xlink:href=\"#DejaVuSans-111\"/>\r\n     <use x=\"401.509766\" xlink:href=\"#DejaVuSans-108\"/>\r\n     <use x=\"429.292969\" xlink:href=\"#DejaVuSans-100\"/>\r\n    </g>\r\n   </g>\r\n   <g id=\"legend_1\">\r\n    <g id=\"line2d_38\">\r\n     <path d=\"M 282.795313 122.958438 \r\nL 302.795313 122.958438 \r\n\" style=\"fill:none;stroke:#0000ff;stroke-dasharray:5.55,2.4;stroke-dashoffset:0;stroke-width:1.5;\"/>\r\n    </g>\r\n    <g id=\"line2d_39\"/>\r\n    <g id=\"text_18\">\r\n     <!-- precision -->\r\n     <g transform=\"translate(310.795313 126.458438)scale(0.1 -0.1)\">\r\n      <defs>\r\n       <path d=\"M 18.109375 8.203125 \r\nL 18.109375 -20.796875 \r\nL 9.078125 -20.796875 \r\nL 9.078125 54.6875 \r\nL 18.109375 54.6875 \r\nL 18.109375 46.390625 \r\nQ 20.953125 51.265625 25.265625 53.625 \r\nQ 29.59375 56 35.59375 56 \r\nQ 45.5625 56 51.78125 48.09375 \r\nQ 58.015625 40.1875 58.015625 27.296875 \r\nQ 58.015625 14.40625 51.78125 6.484375 \r\nQ 45.5625 -1.421875 35.59375 -1.421875 \r\nQ 29.59375 -1.421875 25.265625 0.953125 \r\nQ 20.953125 3.328125 18.109375 8.203125 \r\nz\r\nM 48.6875 27.296875 \r\nQ 48.6875 37.203125 44.609375 42.84375 \r\nQ 40.53125 48.484375 33.40625 48.484375 \r\nQ 26.265625 48.484375 22.1875 42.84375 \r\nQ 18.109375 37.203125 18.109375 27.296875 \r\nQ 18.109375 17.390625 22.1875 11.75 \r\nQ 26.265625 6.109375 33.40625 6.109375 \r\nQ 40.53125 6.109375 44.609375 11.75 \r\nQ 48.6875 17.390625 48.6875 27.296875 \r\nz\r\n\" id=\"DejaVuSans-112\"/>\r\n       <path d=\"M 48.78125 52.59375 \r\nL 48.78125 44.1875 \r\nQ 44.96875 46.296875 41.140625 47.34375 \r\nQ 37.3125 48.390625 33.40625 48.390625 \r\nQ 24.65625 48.390625 19.8125 42.84375 \r\nQ 14.984375 37.3125 14.984375 27.296875 \r\nQ 14.984375 17.28125 19.8125 11.734375 \r\nQ 24.65625 6.203125 33.40625 6.203125 \r\nQ 37.3125 6.203125 41.140625 7.25 \r\nQ 44.96875 8.296875 48.78125 10.40625 \r\nL 48.78125 2.09375 \r\nQ 45.015625 0.34375 40.984375 -0.53125 \r\nQ 36.96875 -1.421875 32.421875 -1.421875 \r\nQ 20.0625 -1.421875 12.78125 6.34375 \r\nQ 5.515625 14.109375 5.515625 27.296875 \r\nQ 5.515625 40.671875 12.859375 48.328125 \r\nQ 20.21875 56 33.015625 56 \r\nQ 37.15625 56 41.109375 55.140625 \r\nQ 45.0625 54.296875 48.78125 52.59375 \r\nz\r\n\" id=\"DejaVuSans-99\"/>\r\n       <path d=\"M 9.421875 54.6875 \r\nL 18.40625 54.6875 \r\nL 18.40625 0 \r\nL 9.421875 0 \r\nz\r\nM 9.421875 75.984375 \r\nL 18.40625 75.984375 \r\nL 18.40625 64.59375 \r\nL 9.421875 64.59375 \r\nz\r\n\" id=\"DejaVuSans-105\"/>\r\n       <path d=\"M 54.890625 33.015625 \r\nL 54.890625 0 \r\nL 45.90625 0 \r\nL 45.90625 32.71875 \r\nQ 45.90625 40.484375 42.875 44.328125 \r\nQ 39.84375 48.1875 33.796875 48.1875 \r\nQ 26.515625 48.1875 22.3125 43.546875 \r\nQ 18.109375 38.921875 18.109375 30.90625 \r\nL 18.109375 0 \r\nL 9.078125 0 \r\nL 9.078125 54.6875 \r\nL 18.109375 54.6875 \r\nL 18.109375 46.1875 \r\nQ 21.34375 51.125 25.703125 53.5625 \r\nQ 30.078125 56 35.796875 56 \r\nQ 45.21875 56 50.046875 50.171875 \r\nQ 54.890625 44.34375 54.890625 33.015625 \r\nz\r\n\" id=\"DejaVuSans-110\"/>\r\n      </defs>\r\n      <use xlink:href=\"#DejaVuSans-112\"/>\r\n      <use x=\"63.476562\" xlink:href=\"#DejaVuSans-114\"/>\r\n      <use x=\"102.339844\" xlink:href=\"#DejaVuSans-101\"/>\r\n      <use x=\"163.863281\" xlink:href=\"#DejaVuSans-99\"/>\r\n      <use x=\"218.84375\" xlink:href=\"#DejaVuSans-105\"/>\r\n      <use x=\"246.626953\" xlink:href=\"#DejaVuSans-115\"/>\r\n      <use x=\"298.726562\" xlink:href=\"#DejaVuSans-105\"/>\r\n      <use x=\"326.509766\" xlink:href=\"#DejaVuSans-111\"/>\r\n      <use x=\"387.691406\" xlink:href=\"#DejaVuSans-110\"/>\r\n     </g>\r\n    </g>\r\n    <g id=\"line2d_40\">\r\n     <path d=\"M 282.795313 137.636562 \r\nL 302.795313 137.636562 \r\n\" style=\"fill:none;stroke:#008000;stroke-dasharray:5.55,2.4;stroke-dashoffset:0;stroke-width:1.5;\"/>\r\n    </g>\r\n    <g id=\"line2d_41\"/>\r\n    <g id=\"text_19\">\r\n     <!-- recall -->\r\n     <g transform=\"translate(310.795313 141.136562)scale(0.1 -0.1)\">\r\n      <defs>\r\n       <path d=\"M 34.28125 27.484375 \r\nQ 23.390625 27.484375 19.1875 25 \r\nQ 14.984375 22.515625 14.984375 16.5 \r\nQ 14.984375 11.71875 18.140625 8.90625 \r\nQ 21.296875 6.109375 26.703125 6.109375 \r\nQ 34.1875 6.109375 38.703125 11.40625 \r\nQ 43.21875 16.703125 43.21875 25.484375 \r\nL 43.21875 27.484375 \r\nz\r\nM 52.203125 31.203125 \r\nL 52.203125 0 \r\nL 43.21875 0 \r\nL 43.21875 8.296875 \r\nQ 40.140625 3.328125 35.546875 0.953125 \r\nQ 30.953125 -1.421875 24.3125 -1.421875 \r\nQ 15.921875 -1.421875 10.953125 3.296875 \r\nQ 6 8.015625 6 15.921875 \r\nQ 6 25.140625 12.171875 29.828125 \r\nQ 18.359375 34.515625 30.609375 34.515625 \r\nL 43.21875 34.515625 \r\nL 43.21875 35.40625 \r\nQ 43.21875 41.609375 39.140625 45 \r\nQ 35.0625 48.390625 27.6875 48.390625 \r\nQ 23 48.390625 18.546875 47.265625 \r\nQ 14.109375 46.140625 10.015625 43.890625 \r\nL 10.015625 52.203125 \r\nQ 14.9375 54.109375 19.578125 55.046875 \r\nQ 24.21875 56 28.609375 56 \r\nQ 40.484375 56 46.34375 49.84375 \r\nQ 52.203125 43.703125 52.203125 31.203125 \r\nz\r\n\" id=\"DejaVuSans-97\"/>\r\n      </defs>\r\n      <use xlink:href=\"#DejaVuSans-114\"/>\r\n      <use x=\"38.863281\" xlink:href=\"#DejaVuSans-101\"/>\r\n      <use x=\"100.386719\" xlink:href=\"#DejaVuSans-99\"/>\r\n      <use x=\"155.367188\" xlink:href=\"#DejaVuSans-97\"/>\r\n      <use x=\"216.646484\" xlink:href=\"#DejaVuSans-108\"/>\r\n      <use x=\"244.429688\" xlink:href=\"#DejaVuSans-108\"/>\r\n     </g>\r\n    </g>\r\n   </g>\r\n  </g>\r\n </g>\r\n <defs>\r\n  <clipPath id=\"pc07203206b\">\r\n   <rect height=\"217.44\" width=\"334.8\" x=\"30.103125\" y=\"22.318125\"/>\r\n  </clipPath>\r\n </defs>\r\n</svg>\r\n",
      "image/png": "[encoded data removed]"
     },
     "metadata": {
      "needs_background": "light"
     }
    }
   ],
   "source": [
    "plot_precision_recall_vs_threshold(prcissions, recall, threshold)\n",
    "plt.show"
   ]
  },
  {
   "cell_type": "code",
   "execution_count": 179,
   "metadata": {},
   "outputs": [
    {
     "output_type": "stream",
     "name": "stdout",
     "text": [
      "3045.925822705364\n0.9002016129032258 0.6589190186312488\n"
     ]
    }
   ],
   "source": [
    "threshold_90_precision = threshold[np.argmax(prcissions >= 0.9)]\n",
    "print(threshold_90_precision)\n",
    "#threshold[threshold == threshold_90_precision]\n",
    "\n",
    "y_train_pred_90 = (y_scores >= threshold_90_precision)\n",
    "\n",
    "precission_sc = precision_score(y_train_5, y_train_pred_90)\n",
    "recall_sc = recall_score(y_train_5, y_train_pred_90)\n",
    "\n",
    "print(precission_sc, recall_sc)"
   ]
  },
  {
   "cell_type": "code",
   "execution_count": null,
   "metadata": {},
   "outputs": [],
   "source": []
  }
 ]
}